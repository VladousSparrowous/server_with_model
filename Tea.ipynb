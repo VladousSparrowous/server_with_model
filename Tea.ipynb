{
  "nbformat": 4,
  "nbformat_minor": 0,
  "metadata": {
    "colab": {
      "provenance": [],
      "authorship_tag": "ABX9TyO5fgI2Je27hYvucnxsni9l",
      "include_colab_link": true
    },
    "kernelspec": {
      "name": "python3",
      "display_name": "Python 3"
    },
    "language_info": {
      "name": "python"
    }
  },
  "cells": [
    {
      "cell_type": "markdown",
      "metadata": {
        "id": "view-in-github",
        "colab_type": "text"
      },
      "source": [
        "<a href=\"https://colab.research.google.com/github/VladousSparrowous/server_with_model/blob/main/Tea.ipynb\" target=\"_parent\"><img src=\"https://colab.research.google.com/assets/colab-badge.svg\" alt=\"Open In Colab\"/></a>"
      ]
    },
    {
      "cell_type": "code",
      "execution_count": null,
      "metadata": {
        "id": "RPIGnDzYFrEw"
      },
      "outputs": [],
      "source": [
        "import numpy as np\n",
        "import pandas as pd\n",
        "import matplotlib.pyplot as plt\n",
        "%matplotlib inline\n",
        "\n",
        "seed = 20"
      ]
    },
    {
      "cell_type": "code",
      "source": [
        "df = pd.read_excel('/content/sample_data/df.xlsx')\n",
        "df.info()\n",
        "df.sample(5)"
      ],
      "metadata": {
        "colab": {
          "base_uri": "https://localhost:8080/",
          "height": 787
        },
        "id": "t29ILfWkP724",
        "outputId": "1a9fad85-f7bd-4ba4-a3f4-e75d8ef120af"
      },
      "execution_count": null,
      "outputs": [
        {
          "output_type": "stream",
          "name": "stdout",
          "text": [
            "<class 'pandas.core.frame.DataFrame'>\n",
            "RangeIndex: 14081 entries, 0 to 14080\n",
            "Data columns (total 18 columns):\n",
            " #   Column          Non-Null Count  Dtype         \n",
            "---  ------          --------------  -----         \n",
            " 0   Unnamed: 0      14081 non-null  int64         \n",
            " 1   Promo_start     14081 non-null  datetime64[ns]\n",
            " 2   Promo_end       14081 non-null  datetime64[ns]\n",
            " 3   Shipping_start  14081 non-null  datetime64[ns]\n",
            " 4   Shipping_end    14081 non-null  datetime64[ns]\n",
            " 5   Promo_type      14081 non-null  object        \n",
            " 6   Feat_2          14081 non-null  float64       \n",
            " 7   Feat_3          14081 non-null  float64       \n",
            " 8   Agent           14081 non-null  object        \n",
            " 9   Promo_id        14081 non-null  object        \n",
            " 10  Item_id         14081 non-null  object        \n",
            " 11  Feat_7          6668 non-null   float64       \n",
            " 12  Promo_class     14081 non-null  object        \n",
            " 13  Feat_9          5881 non-null   float64       \n",
            " 14  Feat_10         6639 non-null   float64       \n",
            " 15  Feat_11         6639 non-null   float64       \n",
            " 16  Feat_12         14081 non-null  int64         \n",
            " 17  Target          14081 non-null  int64         \n",
            "dtypes: datetime64[ns](4), float64(6), int64(3), object(5)\n",
            "memory usage: 1.9+ MB\n"
          ]
        },
        {
          "output_type": "execute_result",
          "data": {
            "text/plain": [
              "      Unnamed: 0 Promo_start  Promo_end Shipping_start Shipping_end  \\\n",
              "9504        9504  2023-11-15 2023-11-21     2023-10-17   2023-11-18   \n",
              "43            43  2020-01-20 2020-01-26     2020-01-06   2020-01-29   \n",
              "2324        2324  2021-03-24 2021-03-30     2021-03-07   2021-03-20   \n",
              "8055        8055  2023-07-19 2023-07-25     2023-06-20   2023-07-16   \n",
              "2545        2545  2021-05-05 2021-05-11     2021-04-11   2021-05-01   \n",
              "\n",
              "     Promo_type        Feat_2     Feat_3 Agent       Promo_id         Item_id  \\\n",
              "9504          J  14398.576770  58.220755     C  Promo №4941.0   Item ID: 22.0   \n",
              "43            L   3577.093926  58.200000     B    Promo №71.0   Item ID: 60.0   \n",
              "2324          A  23555.250077  68.598113     C  Promo №1538.0   Item ID: 90.0   \n",
              "8055          J  43854.088564  73.516981     C  Promo №4639.0  Item ID: 147.0   \n",
              "2545          A   2949.422302  47.864151     C  Promo №1699.0    Item ID: 8.0   \n",
              "\n",
              "            Feat_7 Promo_class        Feat_9       Feat_10    Feat_11  \\\n",
              "9504  86985.198969           D  2.297701e+07  2.608648e+07   2.418338   \n",
              "43             NaN           D           NaN           NaN        NaN   \n",
              "2324           NaN           D           NaN           NaN        NaN   \n",
              "8055   1007.750304           D  2.912773e+07  1.219098e+05  51.209169   \n",
              "2545           NaN           D           NaN           NaN        NaN   \n",
              "\n",
              "      Feat_12  Target  \n",
              "9504    75775    8549  \n",
              "43      85792    3344  \n",
              "2324     8619   14501  \n",
              "8055    24396      20  \n",
              "2545     9962    4327  "
            ],
            "text/html": [
              "\n",
              "  <div id=\"df-51f5b80b-fac8-4fef-a987-5386064674e7\" class=\"colab-df-container\">\n",
              "    <div>\n",
              "<style scoped>\n",
              "    .dataframe tbody tr th:only-of-type {\n",
              "        vertical-align: middle;\n",
              "    }\n",
              "\n",
              "    .dataframe tbody tr th {\n",
              "        vertical-align: top;\n",
              "    }\n",
              "\n",
              "    .dataframe thead th {\n",
              "        text-align: right;\n",
              "    }\n",
              "</style>\n",
              "<table border=\"1\" class=\"dataframe\">\n",
              "  <thead>\n",
              "    <tr style=\"text-align: right;\">\n",
              "      <th></th>\n",
              "      <th>Unnamed: 0</th>\n",
              "      <th>Promo_start</th>\n",
              "      <th>Promo_end</th>\n",
              "      <th>Shipping_start</th>\n",
              "      <th>Shipping_end</th>\n",
              "      <th>Promo_type</th>\n",
              "      <th>Feat_2</th>\n",
              "      <th>Feat_3</th>\n",
              "      <th>Agent</th>\n",
              "      <th>Promo_id</th>\n",
              "      <th>Item_id</th>\n",
              "      <th>Feat_7</th>\n",
              "      <th>Promo_class</th>\n",
              "      <th>Feat_9</th>\n",
              "      <th>Feat_10</th>\n",
              "      <th>Feat_11</th>\n",
              "      <th>Feat_12</th>\n",
              "      <th>Target</th>\n",
              "    </tr>\n",
              "  </thead>\n",
              "  <tbody>\n",
              "    <tr>\n",
              "      <th>9504</th>\n",
              "      <td>9504</td>\n",
              "      <td>2023-11-15</td>\n",
              "      <td>2023-11-21</td>\n",
              "      <td>2023-10-17</td>\n",
              "      <td>2023-11-18</td>\n",
              "      <td>J</td>\n",
              "      <td>14398.576770</td>\n",
              "      <td>58.220755</td>\n",
              "      <td>C</td>\n",
              "      <td>Promo №4941.0</td>\n",
              "      <td>Item ID: 22.0</td>\n",
              "      <td>86985.198969</td>\n",
              "      <td>D</td>\n",
              "      <td>2.297701e+07</td>\n",
              "      <td>2.608648e+07</td>\n",
              "      <td>2.418338</td>\n",
              "      <td>75775</td>\n",
              "      <td>8549</td>\n",
              "    </tr>\n",
              "    <tr>\n",
              "      <th>43</th>\n",
              "      <td>43</td>\n",
              "      <td>2020-01-20</td>\n",
              "      <td>2020-01-26</td>\n",
              "      <td>2020-01-06</td>\n",
              "      <td>2020-01-29</td>\n",
              "      <td>L</td>\n",
              "      <td>3577.093926</td>\n",
              "      <td>58.200000</td>\n",
              "      <td>B</td>\n",
              "      <td>Promo №71.0</td>\n",
              "      <td>Item ID: 60.0</td>\n",
              "      <td>NaN</td>\n",
              "      <td>D</td>\n",
              "      <td>NaN</td>\n",
              "      <td>NaN</td>\n",
              "      <td>NaN</td>\n",
              "      <td>85792</td>\n",
              "      <td>3344</td>\n",
              "    </tr>\n",
              "    <tr>\n",
              "      <th>2324</th>\n",
              "      <td>2324</td>\n",
              "      <td>2021-03-24</td>\n",
              "      <td>2021-03-30</td>\n",
              "      <td>2021-03-07</td>\n",
              "      <td>2021-03-20</td>\n",
              "      <td>A</td>\n",
              "      <td>23555.250077</td>\n",
              "      <td>68.598113</td>\n",
              "      <td>C</td>\n",
              "      <td>Promo №1538.0</td>\n",
              "      <td>Item ID: 90.0</td>\n",
              "      <td>NaN</td>\n",
              "      <td>D</td>\n",
              "      <td>NaN</td>\n",
              "      <td>NaN</td>\n",
              "      <td>NaN</td>\n",
              "      <td>8619</td>\n",
              "      <td>14501</td>\n",
              "    </tr>\n",
              "    <tr>\n",
              "      <th>8055</th>\n",
              "      <td>8055</td>\n",
              "      <td>2023-07-19</td>\n",
              "      <td>2023-07-25</td>\n",
              "      <td>2023-06-20</td>\n",
              "      <td>2023-07-16</td>\n",
              "      <td>J</td>\n",
              "      <td>43854.088564</td>\n",
              "      <td>73.516981</td>\n",
              "      <td>C</td>\n",
              "      <td>Promo №4639.0</td>\n",
              "      <td>Item ID: 147.0</td>\n",
              "      <td>1007.750304</td>\n",
              "      <td>D</td>\n",
              "      <td>2.912773e+07</td>\n",
              "      <td>1.219098e+05</td>\n",
              "      <td>51.209169</td>\n",
              "      <td>24396</td>\n",
              "      <td>20</td>\n",
              "    </tr>\n",
              "    <tr>\n",
              "      <th>2545</th>\n",
              "      <td>2545</td>\n",
              "      <td>2021-05-05</td>\n",
              "      <td>2021-05-11</td>\n",
              "      <td>2021-04-11</td>\n",
              "      <td>2021-05-01</td>\n",
              "      <td>A</td>\n",
              "      <td>2949.422302</td>\n",
              "      <td>47.864151</td>\n",
              "      <td>C</td>\n",
              "      <td>Promo №1699.0</td>\n",
              "      <td>Item ID: 8.0</td>\n",
              "      <td>NaN</td>\n",
              "      <td>D</td>\n",
              "      <td>NaN</td>\n",
              "      <td>NaN</td>\n",
              "      <td>NaN</td>\n",
              "      <td>9962</td>\n",
              "      <td>4327</td>\n",
              "    </tr>\n",
              "  </tbody>\n",
              "</table>\n",
              "</div>\n",
              "    <div class=\"colab-df-buttons\">\n",
              "\n",
              "  <div class=\"colab-df-container\">\n",
              "    <button class=\"colab-df-convert\" onclick=\"convertToInteractive('df-51f5b80b-fac8-4fef-a987-5386064674e7')\"\n",
              "            title=\"Convert this dataframe to an interactive table.\"\n",
              "            style=\"display:none;\">\n",
              "\n",
              "  <svg xmlns=\"http://www.w3.org/2000/svg\" height=\"24px\" viewBox=\"0 -960 960 960\">\n",
              "    <path d=\"M120-120v-720h720v720H120Zm60-500h600v-160H180v160Zm220 220h160v-160H400v160Zm0 220h160v-160H400v160ZM180-400h160v-160H180v160Zm440 0h160v-160H620v160ZM180-180h160v-160H180v160Zm440 0h160v-160H620v160Z\"/>\n",
              "  </svg>\n",
              "    </button>\n",
              "\n",
              "  <style>\n",
              "    .colab-df-container {\n",
              "      display:flex;\n",
              "      gap: 12px;\n",
              "    }\n",
              "\n",
              "    .colab-df-convert {\n",
              "      background-color: #E8F0FE;\n",
              "      border: none;\n",
              "      border-radius: 50%;\n",
              "      cursor: pointer;\n",
              "      display: none;\n",
              "      fill: #1967D2;\n",
              "      height: 32px;\n",
              "      padding: 0 0 0 0;\n",
              "      width: 32px;\n",
              "    }\n",
              "\n",
              "    .colab-df-convert:hover {\n",
              "      background-color: #E2EBFA;\n",
              "      box-shadow: 0px 1px 2px rgba(60, 64, 67, 0.3), 0px 1px 3px 1px rgba(60, 64, 67, 0.15);\n",
              "      fill: #174EA6;\n",
              "    }\n",
              "\n",
              "    .colab-df-buttons div {\n",
              "      margin-bottom: 4px;\n",
              "    }\n",
              "\n",
              "    [theme=dark] .colab-df-convert {\n",
              "      background-color: #3B4455;\n",
              "      fill: #D2E3FC;\n",
              "    }\n",
              "\n",
              "    [theme=dark] .colab-df-convert:hover {\n",
              "      background-color: #434B5C;\n",
              "      box-shadow: 0px 1px 3px 1px rgba(0, 0, 0, 0.15);\n",
              "      filter: drop-shadow(0px 1px 2px rgba(0, 0, 0, 0.3));\n",
              "      fill: #FFFFFF;\n",
              "    }\n",
              "  </style>\n",
              "\n",
              "    <script>\n",
              "      const buttonEl =\n",
              "        document.querySelector('#df-51f5b80b-fac8-4fef-a987-5386064674e7 button.colab-df-convert');\n",
              "      buttonEl.style.display =\n",
              "        google.colab.kernel.accessAllowed ? 'block' : 'none';\n",
              "\n",
              "      async function convertToInteractive(key) {\n",
              "        const element = document.querySelector('#df-51f5b80b-fac8-4fef-a987-5386064674e7');\n",
              "        const dataTable =\n",
              "          await google.colab.kernel.invokeFunction('convertToInteractive',\n",
              "                                                    [key], {});\n",
              "        if (!dataTable) return;\n",
              "\n",
              "        const docLinkHtml = 'Like what you see? Visit the ' +\n",
              "          '<a target=\"_blank\" href=https://colab.research.google.com/notebooks/data_table.ipynb>data table notebook</a>'\n",
              "          + ' to learn more about interactive tables.';\n",
              "        element.innerHTML = '';\n",
              "        dataTable['output_type'] = 'display_data';\n",
              "        await google.colab.output.renderOutput(dataTable, element);\n",
              "        const docLink = document.createElement('div');\n",
              "        docLink.innerHTML = docLinkHtml;\n",
              "        element.appendChild(docLink);\n",
              "      }\n",
              "    </script>\n",
              "  </div>\n",
              "\n",
              "\n",
              "<div id=\"df-06c6aceb-9d5c-4a31-9e3d-ef93b3b7539d\">\n",
              "  <button class=\"colab-df-quickchart\" onclick=\"quickchart('df-06c6aceb-9d5c-4a31-9e3d-ef93b3b7539d')\"\n",
              "            title=\"Suggest charts\"\n",
              "            style=\"display:none;\">\n",
              "\n",
              "<svg xmlns=\"http://www.w3.org/2000/svg\" height=\"24px\"viewBox=\"0 0 24 24\"\n",
              "     width=\"24px\">\n",
              "    <g>\n",
              "        <path d=\"M19 3H5c-1.1 0-2 .9-2 2v14c0 1.1.9 2 2 2h14c1.1 0 2-.9 2-2V5c0-1.1-.9-2-2-2zM9 17H7v-7h2v7zm4 0h-2V7h2v10zm4 0h-2v-4h2v4z\"/>\n",
              "    </g>\n",
              "</svg>\n",
              "  </button>\n",
              "\n",
              "<style>\n",
              "  .colab-df-quickchart {\n",
              "      --bg-color: #E8F0FE;\n",
              "      --fill-color: #1967D2;\n",
              "      --hover-bg-color: #E2EBFA;\n",
              "      --hover-fill-color: #174EA6;\n",
              "      --disabled-fill-color: #AAA;\n",
              "      --disabled-bg-color: #DDD;\n",
              "  }\n",
              "\n",
              "  [theme=dark] .colab-df-quickchart {\n",
              "      --bg-color: #3B4455;\n",
              "      --fill-color: #D2E3FC;\n",
              "      --hover-bg-color: #434B5C;\n",
              "      --hover-fill-color: #FFFFFF;\n",
              "      --disabled-bg-color: #3B4455;\n",
              "      --disabled-fill-color: #666;\n",
              "  }\n",
              "\n",
              "  .colab-df-quickchart {\n",
              "    background-color: var(--bg-color);\n",
              "    border: none;\n",
              "    border-radius: 50%;\n",
              "    cursor: pointer;\n",
              "    display: none;\n",
              "    fill: var(--fill-color);\n",
              "    height: 32px;\n",
              "    padding: 0;\n",
              "    width: 32px;\n",
              "  }\n",
              "\n",
              "  .colab-df-quickchart:hover {\n",
              "    background-color: var(--hover-bg-color);\n",
              "    box-shadow: 0 1px 2px rgba(60, 64, 67, 0.3), 0 1px 3px 1px rgba(60, 64, 67, 0.15);\n",
              "    fill: var(--button-hover-fill-color);\n",
              "  }\n",
              "\n",
              "  .colab-df-quickchart-complete:disabled,\n",
              "  .colab-df-quickchart-complete:disabled:hover {\n",
              "    background-color: var(--disabled-bg-color);\n",
              "    fill: var(--disabled-fill-color);\n",
              "    box-shadow: none;\n",
              "  }\n",
              "\n",
              "  .colab-df-spinner {\n",
              "    border: 2px solid var(--fill-color);\n",
              "    border-color: transparent;\n",
              "    border-bottom-color: var(--fill-color);\n",
              "    animation:\n",
              "      spin 1s steps(1) infinite;\n",
              "  }\n",
              "\n",
              "  @keyframes spin {\n",
              "    0% {\n",
              "      border-color: transparent;\n",
              "      border-bottom-color: var(--fill-color);\n",
              "      border-left-color: var(--fill-color);\n",
              "    }\n",
              "    20% {\n",
              "      border-color: transparent;\n",
              "      border-left-color: var(--fill-color);\n",
              "      border-top-color: var(--fill-color);\n",
              "    }\n",
              "    30% {\n",
              "      border-color: transparent;\n",
              "      border-left-color: var(--fill-color);\n",
              "      border-top-color: var(--fill-color);\n",
              "      border-right-color: var(--fill-color);\n",
              "    }\n",
              "    40% {\n",
              "      border-color: transparent;\n",
              "      border-right-color: var(--fill-color);\n",
              "      border-top-color: var(--fill-color);\n",
              "    }\n",
              "    60% {\n",
              "      border-color: transparent;\n",
              "      border-right-color: var(--fill-color);\n",
              "    }\n",
              "    80% {\n",
              "      border-color: transparent;\n",
              "      border-right-color: var(--fill-color);\n",
              "      border-bottom-color: var(--fill-color);\n",
              "    }\n",
              "    90% {\n",
              "      border-color: transparent;\n",
              "      border-bottom-color: var(--fill-color);\n",
              "    }\n",
              "  }\n",
              "</style>\n",
              "\n",
              "  <script>\n",
              "    async function quickchart(key) {\n",
              "      const quickchartButtonEl =\n",
              "        document.querySelector('#' + key + ' button');\n",
              "      quickchartButtonEl.disabled = true;  // To prevent multiple clicks.\n",
              "      quickchartButtonEl.classList.add('colab-df-spinner');\n",
              "      try {\n",
              "        const charts = await google.colab.kernel.invokeFunction(\n",
              "            'suggestCharts', [key], {});\n",
              "      } catch (error) {\n",
              "        console.error('Error during call to suggestCharts:', error);\n",
              "      }\n",
              "      quickchartButtonEl.classList.remove('colab-df-spinner');\n",
              "      quickchartButtonEl.classList.add('colab-df-quickchart-complete');\n",
              "    }\n",
              "    (() => {\n",
              "      let quickchartButtonEl =\n",
              "        document.querySelector('#df-06c6aceb-9d5c-4a31-9e3d-ef93b3b7539d button');\n",
              "      quickchartButtonEl.style.display =\n",
              "        google.colab.kernel.accessAllowed ? 'block' : 'none';\n",
              "    })();\n",
              "  </script>\n",
              "</div>\n",
              "    </div>\n",
              "  </div>\n"
            ],
            "application/vnd.google.colaboratory.intrinsic+json": {
              "type": "dataframe",
              "summary": "{\n  \"name\": \"df\",\n  \"rows\": 5,\n  \"fields\": [\n    {\n      \"column\": \"Unnamed: 0\",\n      \"properties\": {\n        \"dtype\": \"number\",\n        \"std\": 4065,\n        \"min\": 43,\n        \"max\": 9504,\n        \"num_unique_values\": 5,\n        \"samples\": [\n          43,\n          2545,\n          2324\n        ],\n        \"semantic_type\": \"\",\n        \"description\": \"\"\n      }\n    },\n    {\n      \"column\": \"Promo_start\",\n      \"properties\": {\n        \"dtype\": \"date\",\n        \"min\": \"2020-01-20 00:00:00\",\n        \"max\": \"2023-11-15 00:00:00\",\n        \"num_unique_values\": 5,\n        \"samples\": [\n          \"2020-01-20 00:00:00\",\n          \"2021-05-05 00:00:00\",\n          \"2021-03-24 00:00:00\"\n        ],\n        \"semantic_type\": \"\",\n        \"description\": \"\"\n      }\n    },\n    {\n      \"column\": \"Promo_end\",\n      \"properties\": {\n        \"dtype\": \"date\",\n        \"min\": \"2020-01-26 00:00:00\",\n        \"max\": \"2023-11-21 00:00:00\",\n        \"num_unique_values\": 5,\n        \"samples\": [\n          \"2020-01-26 00:00:00\",\n          \"2021-05-11 00:00:00\",\n          \"2021-03-30 00:00:00\"\n        ],\n        \"semantic_type\": \"\",\n        \"description\": \"\"\n      }\n    },\n    {\n      \"column\": \"Shipping_start\",\n      \"properties\": {\n        \"dtype\": \"date\",\n        \"min\": \"2020-01-06 00:00:00\",\n        \"max\": \"2023-10-17 00:00:00\",\n        \"num_unique_values\": 5,\n        \"samples\": [\n          \"2020-01-06 00:00:00\",\n          \"2021-04-11 00:00:00\",\n          \"2021-03-07 00:00:00\"\n        ],\n        \"semantic_type\": \"\",\n        \"description\": \"\"\n      }\n    },\n    {\n      \"column\": \"Shipping_end\",\n      \"properties\": {\n        \"dtype\": \"date\",\n        \"min\": \"2020-01-29 00:00:00\",\n        \"max\": \"2023-11-18 00:00:00\",\n        \"num_unique_values\": 5,\n        \"samples\": [\n          \"2020-01-29 00:00:00\",\n          \"2021-05-01 00:00:00\",\n          \"2021-03-20 00:00:00\"\n        ],\n        \"semantic_type\": \"\",\n        \"description\": \"\"\n      }\n    },\n    {\n      \"column\": \"Promo_type\",\n      \"properties\": {\n        \"dtype\": \"string\",\n        \"num_unique_values\": 3,\n        \"samples\": [\n          \"J\",\n          \"L\",\n          \"A\"\n        ],\n        \"semantic_type\": \"\",\n        \"description\": \"\"\n      }\n    },\n    {\n      \"column\": \"Feat_2\",\n      \"properties\": {\n        \"dtype\": \"number\",\n        \"std\": 16928.1587394204,\n        \"min\": 2949.422302221829,\n        \"max\": 43854.08856398251,\n        \"num_unique_values\": 5,\n        \"samples\": [\n          3577.093926410177,\n          2949.422302221829,\n          23555.25007730023\n        ],\n        \"semantic_type\": \"\",\n        \"description\": \"\"\n      }\n    },\n    {\n      \"column\": \"Feat_3\",\n      \"properties\": {\n        \"dtype\": \"number\",\n        \"std\": 10.02657563374077,\n        \"min\": 47.86415094339623,\n        \"max\": 73.51698113207546,\n        \"num_unique_values\": 5,\n        \"samples\": [\n          58.2,\n          47.86415094339623,\n          68.59811320754717\n        ],\n        \"semantic_type\": \"\",\n        \"description\": \"\"\n      }\n    },\n    {\n      \"column\": \"Agent\",\n      \"properties\": {\n        \"dtype\": \"category\",\n        \"num_unique_values\": 2,\n        \"samples\": [\n          \"B\",\n          \"C\"\n        ],\n        \"semantic_type\": \"\",\n        \"description\": \"\"\n      }\n    },\n    {\n      \"column\": \"Promo_id\",\n      \"properties\": {\n        \"dtype\": \"string\",\n        \"num_unique_values\": 5,\n        \"samples\": [\n          \"Promo \\u211671.0\",\n          \"Promo \\u21161699.0\"\n        ],\n        \"semantic_type\": \"\",\n        \"description\": \"\"\n      }\n    },\n    {\n      \"column\": \"Item_id\",\n      \"properties\": {\n        \"dtype\": \"string\",\n        \"num_unique_values\": 5,\n        \"samples\": [\n          \"Item ID: 60.0\",\n          \"Item ID: 8.0\"\n        ],\n        \"semantic_type\": \"\",\n        \"description\": \"\"\n      }\n    },\n    {\n      \"column\": \"Feat_7\",\n      \"properties\": {\n        \"dtype\": \"number\",\n        \"std\": 60795.23698010316,\n        \"min\": 1007.750303973542,\n        \"max\": 86985.19896892176,\n        \"num_unique_values\": 2,\n        \"samples\": [\n          1007.750303973542,\n          86985.19896892176\n        ],\n        \"semantic_type\": \"\",\n        \"description\": \"\"\n      }\n    },\n    {\n      \"column\": \"Promo_class\",\n      \"properties\": {\n        \"dtype\": \"category\",\n        \"num_unique_values\": 1,\n        \"samples\": [\n          \"D\"\n        ],\n        \"semantic_type\": \"\",\n        \"description\": \"\"\n      }\n    },\n    {\n      \"column\": \"Feat_9\",\n      \"properties\": {\n        \"dtype\": \"number\",\n        \"std\": 4349217.250418419,\n        \"min\": 22977008.84971057,\n        \"max\": 29127730.87095932,\n        \"num_unique_values\": 2,\n        \"samples\": [\n          29127730.87095932\n        ],\n        \"semantic_type\": \"\",\n        \"description\": \"\"\n      }\n    },\n    {\n      \"column\": \"Feat_10\",\n      \"properties\": {\n        \"dtype\": \"number\",\n        \"std\": 18359725.11729126,\n        \"min\": 121909.7918693648,\n        \"max\": 26086482.05418463,\n        \"num_unique_values\": 2,\n        \"samples\": [\n          121909.7918693648\n        ],\n        \"semantic_type\": \"\",\n        \"description\": \"\"\n      }\n    },\n    {\n      \"column\": \"Feat_11\",\n      \"properties\": {\n        \"dtype\": \"number\",\n        \"std\": 34.500327421331036,\n        \"min\": 2.418338108882522,\n        \"max\": 51.20916905444126,\n        \"num_unique_values\": 2,\n        \"samples\": [\n          51.20916905444126\n        ],\n        \"semantic_type\": \"\",\n        \"description\": \"\"\n      }\n    },\n    {\n      \"column\": \"Feat_12\",\n      \"properties\": {\n        \"dtype\": \"number\",\n        \"std\": 37091,\n        \"min\": 8619,\n        \"max\": 85792,\n        \"num_unique_values\": 5,\n        \"samples\": [\n          85792\n        ],\n        \"semantic_type\": \"\",\n        \"description\": \"\"\n      }\n    },\n    {\n      \"column\": \"Target\",\n      \"properties\": {\n        \"dtype\": \"number\",\n        \"std\": 5573,\n        \"min\": 20,\n        \"max\": 14501,\n        \"num_unique_values\": 5,\n        \"samples\": [\n          3344\n        ],\n        \"semantic_type\": \"\",\n        \"description\": \"\"\n      }\n    }\n  ]\n}"
            }
          },
          "metadata": {},
          "execution_count": 2
        }
      ]
    },
    {
      "cell_type": "code",
      "source": [
        "df.isna().sum()"
      ],
      "metadata": {
        "colab": {
          "base_uri": "https://localhost:8080/",
          "height": 648
        },
        "id": "fPEw5b8iCnUp",
        "outputId": "25f61500-584a-4ab2-eebd-b9e384b77f3f"
      },
      "execution_count": null,
      "outputs": [
        {
          "output_type": "execute_result",
          "data": {
            "text/plain": [
              "Unnamed: 0           0\n",
              "Promo_start          0\n",
              "Promo_end            0\n",
              "Shipping_start       0\n",
              "Shipping_end         0\n",
              "Promo_type           0\n",
              "Feat_2               0\n",
              "Feat_3               0\n",
              "Agent                0\n",
              "Promo_id             0\n",
              "Item_id              0\n",
              "Feat_7            7413\n",
              "Promo_class          0\n",
              "Feat_9            8200\n",
              "Feat_10           7442\n",
              "Feat_11           7442\n",
              "Feat_12              0\n",
              "Target               0\n",
              "dtype: int64"
            ],
            "text/html": [
              "<div>\n",
              "<style scoped>\n",
              "    .dataframe tbody tr th:only-of-type {\n",
              "        vertical-align: middle;\n",
              "    }\n",
              "\n",
              "    .dataframe tbody tr th {\n",
              "        vertical-align: top;\n",
              "    }\n",
              "\n",
              "    .dataframe thead th {\n",
              "        text-align: right;\n",
              "    }\n",
              "</style>\n",
              "<table border=\"1\" class=\"dataframe\">\n",
              "  <thead>\n",
              "    <tr style=\"text-align: right;\">\n",
              "      <th></th>\n",
              "      <th>0</th>\n",
              "    </tr>\n",
              "  </thead>\n",
              "  <tbody>\n",
              "    <tr>\n",
              "      <th>Unnamed: 0</th>\n",
              "      <td>0</td>\n",
              "    </tr>\n",
              "    <tr>\n",
              "      <th>Promo_start</th>\n",
              "      <td>0</td>\n",
              "    </tr>\n",
              "    <tr>\n",
              "      <th>Promo_end</th>\n",
              "      <td>0</td>\n",
              "    </tr>\n",
              "    <tr>\n",
              "      <th>Shipping_start</th>\n",
              "      <td>0</td>\n",
              "    </tr>\n",
              "    <tr>\n",
              "      <th>Shipping_end</th>\n",
              "      <td>0</td>\n",
              "    </tr>\n",
              "    <tr>\n",
              "      <th>Promo_type</th>\n",
              "      <td>0</td>\n",
              "    </tr>\n",
              "    <tr>\n",
              "      <th>Feat_2</th>\n",
              "      <td>0</td>\n",
              "    </tr>\n",
              "    <tr>\n",
              "      <th>Feat_3</th>\n",
              "      <td>0</td>\n",
              "    </tr>\n",
              "    <tr>\n",
              "      <th>Agent</th>\n",
              "      <td>0</td>\n",
              "    </tr>\n",
              "    <tr>\n",
              "      <th>Promo_id</th>\n",
              "      <td>0</td>\n",
              "    </tr>\n",
              "    <tr>\n",
              "      <th>Item_id</th>\n",
              "      <td>0</td>\n",
              "    </tr>\n",
              "    <tr>\n",
              "      <th>Feat_7</th>\n",
              "      <td>7413</td>\n",
              "    </tr>\n",
              "    <tr>\n",
              "      <th>Promo_class</th>\n",
              "      <td>0</td>\n",
              "    </tr>\n",
              "    <tr>\n",
              "      <th>Feat_9</th>\n",
              "      <td>8200</td>\n",
              "    </tr>\n",
              "    <tr>\n",
              "      <th>Feat_10</th>\n",
              "      <td>7442</td>\n",
              "    </tr>\n",
              "    <tr>\n",
              "      <th>Feat_11</th>\n",
              "      <td>7442</td>\n",
              "    </tr>\n",
              "    <tr>\n",
              "      <th>Feat_12</th>\n",
              "      <td>0</td>\n",
              "    </tr>\n",
              "    <tr>\n",
              "      <th>Target</th>\n",
              "      <td>0</td>\n",
              "    </tr>\n",
              "  </tbody>\n",
              "</table>\n",
              "</div><br><label><b>dtype:</b> int64</label>"
            ]
          },
          "metadata": {},
          "execution_count": 3
        }
      ]
    },
    {
      "cell_type": "code",
      "source": [
        "data = df.copy()\n",
        "\n",
        "problem_columns = ['Feat_7', 'Feat_9', 'Feat_10', 'Feat_11']\n",
        "mask = data[problem_columns].isna().all(axis=1)\n",
        "problem_rows = data[mask]\n",
        "problem_rows.info()"
      ],
      "metadata": {
        "colab": {
          "base_uri": "https://localhost:8080/"
        },
        "id": "SkNyoJxpd3XJ",
        "outputId": "1929c067-4ce7-4ac8-af09-ebb755a28839"
      },
      "execution_count": null,
      "outputs": [
        {
          "output_type": "stream",
          "name": "stdout",
          "text": [
            "<class 'pandas.core.frame.DataFrame'>\n",
            "Index: 7413 entries, 0 to 14080\n",
            "Data columns (total 18 columns):\n",
            " #   Column          Non-Null Count  Dtype         \n",
            "---  ------          --------------  -----         \n",
            " 0   Unnamed: 0      7413 non-null   int64         \n",
            " 1   Promo_start     7413 non-null   datetime64[ns]\n",
            " 2   Promo_end       7413 non-null   datetime64[ns]\n",
            " 3   Shipping_start  7413 non-null   datetime64[ns]\n",
            " 4   Shipping_end    7413 non-null   datetime64[ns]\n",
            " 5   Promo_type      7413 non-null   object        \n",
            " 6   Feat_2          7413 non-null   float64       \n",
            " 7   Feat_3          7413 non-null   float64       \n",
            " 8   Agent           7413 non-null   object        \n",
            " 9   Promo_id        7413 non-null   object        \n",
            " 10  Item_id         7413 non-null   object        \n",
            " 11  Feat_7          0 non-null      float64       \n",
            " 12  Promo_class     7413 non-null   object        \n",
            " 13  Feat_9          0 non-null      float64       \n",
            " 14  Feat_10         0 non-null      float64       \n",
            " 15  Feat_11         0 non-null      float64       \n",
            " 16  Feat_12         7413 non-null   int64         \n",
            " 17  Target          7413 non-null   int64         \n",
            "dtypes: datetime64[ns](4), float64(6), int64(3), object(5)\n",
            "memory usage: 1.1+ MB\n"
          ]
        }
      ]
    },
    {
      "cell_type": "code",
      "source": [
        "# @title категориальные признаки\n",
        "\n",
        "data_Promo_type = data.groupby('Promo_type')['Target'].count()\n",
        "plt.bar(data_Promo_type.index, np.array(data_Promo_type))"
      ],
      "metadata": {
        "colab": {
          "base_uri": "https://localhost:8080/",
          "height": 448
        },
        "id": "2-_evOEd0NwE",
        "outputId": "d9139d57-c3f3-45b7-ece3-7fa8a33ec06f"
      },
      "execution_count": null,
      "outputs": [
        {
          "output_type": "execute_result",
          "data": {
            "text/plain": [
              "<BarContainer object of 11 artists>"
            ]
          },
          "metadata": {},
          "execution_count": 5
        },
        {
          "output_type": "display_data",
          "data": {
            "text/plain": [
              "<Figure size 640x480 with 1 Axes>"
            ],
            "image/png": "[encoded data removed]"
          },
          "metadata": {}
        }
      ]
    },
    {
      "cell_type": "code",
      "source": [
        "data_Agent = data.groupby('Agent')['Target'].count()\n",
        "plt.bar(data_Agent.index, np.array(data_Agent))"
      ],
      "metadata": {
        "colab": {
          "base_uri": "https://localhost:8080/",
          "height": 448
        },
        "id": "nlAAtPIp0DXu",
        "outputId": "de92d35f-eca7-4640-8e35-561be1416e4d"
      },
      "execution_count": null,
      "outputs": [
        {
          "output_type": "execute_result",
          "data": {
            "text/plain": [
              "<BarContainer object of 3 artists>"
            ]
          },
          "metadata": {},
          "execution_count": 6
        },
        {
          "output_type": "display_data",
          "data": {
            "text/plain": [
              "<Figure size 640x480 with 1 Axes>"
            ],
            "image/png": "[encoded data removed]"
          },
          "metadata": {}
        }
      ]
    },
    {
      "cell_type": "code",
      "source": [
        "data_Promo_class = data.groupby('Promo_class')['Target'].count()\n",
        "plt.bar(data_Promo_class.index, np.array(data_Promo_class))"
      ],
      "metadata": {
        "colab": {
          "base_uri": "https://localhost:8080/",
          "height": 448
        },
        "id": "RpsV6Jfsxr-8",
        "outputId": "33aa8aa8-a867-4da8-aa88-884263de1ebd"
      },
      "execution_count": null,
      "outputs": [
        {
          "output_type": "execute_result",
          "data": {
            "text/plain": [
              "<BarContainer object of 3 artists>"
            ]
          },
          "metadata": {},
          "execution_count": 7
        },
        {
          "output_type": "display_data",
          "data": {
            "text/plain": [
              "<Figure size 640x480 with 1 Axes>"
            ],
            "image/png": "[encoded data removed]"
          },
          "metadata": {}
        }
      ]
    },
    {
      "cell_type": "code",
      "source": [
        "# @title признаки с пропусками\n",
        "\n",
        "plt.hist(data['Feat_7'])"
      ],
      "metadata": {
        "colab": {
          "base_uri": "https://localhost:8080/",
          "height": 540
        },
        "id": "5P1IczA6kDfu",
        "outputId": "3c179fc1-e3f4-41e6-e3a0-8d614653115a"
      },
      "execution_count": null,
      "outputs": [
        {
          "output_type": "execute_result",
          "data": {
            "text/plain": [
              "(array([2779.,  932.,  451.,  615.,  151.,  190.,  375.,  297.,  656.,\n",
              "         222.]),\n",
              " array([1.00000e+00, 1.00009e+04, 2.00008e+04, 3.00007e+04, 4.00006e+04,\n",
              "        5.00005e+04, 6.00004e+04, 7.00003e+04, 8.00002e+04, 9.00001e+04,\n",
              "        1.00000e+05]),\n",
              " <BarContainer object of 10 artists>)"
            ]
          },
          "metadata": {},
          "execution_count": 8
        },
        {
          "output_type": "display_data",
          "data": {
            "text/plain": [
              "<Figure size 640x480 with 1 Axes>"
            ],
            "image/png": "[encoded data removed]"
          },
          "metadata": {}
        }
      ]
    },
    {
      "cell_type": "code",
      "source": [
        "plt.hist(data['Feat_9'])"
      ],
      "metadata": {
        "colab": {
          "base_uri": "https://localhost:8080/",
          "height": 558
        },
        "id": "Lyic7HnVkbxH",
        "outputId": "744da323-1ec0-438e-9fe7-342bce2bae64"
      },
      "execution_count": null,
      "outputs": [
        {
          "output_type": "execute_result",
          "data": {
            "text/plain": [
              "(array([1611.,  799., 1302.,  740.,   60.,   23.,  128.,  428.,  489.,\n",
              "         301.]),\n",
              " array([1.00000000e+00, 1.00000009e+07, 2.00000008e+07, 3.00000007e+07,\n",
              "        4.00000006e+07, 5.00000005e+07, 6.00000004e+07, 7.00000003e+07,\n",
              "        8.00000002e+07, 9.00000001e+07, 1.00000000e+08]),\n",
              " <BarContainer object of 10 artists>)"
            ]
          },
          "metadata": {},
          "execution_count": 9
        },
        {
          "output_type": "display_data",
          "data": {
            "text/plain": [
              "<Figure size 640x480 with 1 Axes>"
            ],
            "image/png": "[encoded data removed]"
          },
          "metadata": {}
        }
      ]
    },
    {
      "cell_type": "code",
      "source": [
        "plt.hist(data['Feat_10'])"
      ],
      "metadata": {
        "colab": {
          "base_uri": "https://localhost:8080/",
          "height": 558
        },
        "id": "q4wUCXH8kdUA",
        "outputId": "0fa0618b-9f7c-4c71-aac2-4834b060af8d"
      },
      "execution_count": null,
      "outputs": [
        {
          "output_type": "execute_result",
          "data": {
            "text/plain": [
              "(array([4.949e+03, 7.820e+02, 4.150e+02, 2.310e+02, 1.060e+02, 6.000e+01,\n",
              "        3.500e+01, 3.400e+01, 2.400e+01, 3.000e+00]),\n",
              " array([1.00000000e+00, 1.00000009e+07, 2.00000008e+07, 3.00000007e+07,\n",
              "        4.00000006e+07, 5.00000005e+07, 6.00000004e+07, 7.00000003e+07,\n",
              "        8.00000002e+07, 9.00000001e+07, 1.00000000e+08]),\n",
              " <BarContainer object of 10 artists>)"
            ]
          },
          "metadata": {},
          "execution_count": 10
        },
        {
          "output_type": "display_data",
          "data": {
            "text/plain": [
              "<Figure size 640x480 with 1 Axes>"
            ],
            "image/png": "[encoded data removed]"
          },
          "metadata": {}
        }
      ]
    },
    {
      "cell_type": "code",
      "source": [
        "plt.hist(data['Feat_11'])"
      ],
      "metadata": {
        "colab": {
          "base_uri": "https://localhost:8080/",
          "height": 521
        },
        "id": "TBpEwqoikezc",
        "outputId": "bace7954-41e5-4ad0-be17-b9823bf88220"
      },
      "execution_count": null,
      "outputs": [
        {
          "output_type": "execute_result",
          "data": {
            "text/plain": [
              "(array([2.027e+03, 1.414e+03, 8.820e+02, 6.680e+02, 7.300e+02, 5.790e+02,\n",
              "        2.660e+02, 5.400e+01, 1.700e+01, 2.000e+00]),\n",
              " array([  1. ,  10.9,  20.8,  30.7,  40.6,  50.5,  60.4,  70.3,  80.2,\n",
              "         90.1, 100. ]),\n",
              " <BarContainer object of 10 artists>)"
            ]
          },
          "metadata": {},
          "execution_count": 11
        },
        {
          "output_type": "display_data",
          "data": {
            "text/plain": [
              "<Figure size 640x480 with 1 Axes>"
            ],
            "image/png": "[encoded data removed]"
          },
          "metadata": {}
        }
      ]
    },
    {
      "cell_type": "code",
      "source": [
        "'''\n",
        "from sklearn.impute import KNNImputer\n",
        "\n",
        "imputer = KNNImputer(n_neighbors=3)\n",
        "data_f = pd.DataFrame(imputer.fit_transform(data[problem_columns]), columns=problem_columns)\n",
        "data_f.info()\n",
        "data[problem_columns] = data_f[problem_columns]\n",
        "'''"
      ],
      "metadata": {
        "colab": {
          "base_uri": "https://localhost:8080/",
          "height": 72
        },
        "id": "ljVL2SvMnyp-",
        "outputId": "15fba877-56f9-47a9-cb9f-6985f662bed6"
      },
      "execution_count": null,
      "outputs": [
        {
          "output_type": "execute_result",
          "data": {
            "text/plain": [
              "'\\nfrom sklearn.impute import KNNImputer\\n\\nimputer = KNNImputer(n_neighbors=3)\\ndata_f = pd.DataFrame(imputer.fit_transform(data[problem_columns]), columns=problem_columns)\\ndata_f.info()\\ndata[problem_columns] = data_f[problem_columns]\\n'"
            ],
            "application/vnd.google.colaboratory.intrinsic+json": {
              "type": "string"
            }
          },
          "metadata": {},
          "execution_count": 12
        }
      ]
    },
    {
      "cell_type": "code",
      "source": [
        "\n",
        "for i in problem_columns:\n",
        "  m = data[i].mode()\n",
        "  m = np.array(m).mean()\n",
        "  data[i] = data[i].fillna(m)\n",
        "data.info()\n",
        "data.sample(10)\n"
      ],
      "metadata": {
        "colab": {
          "base_uri": "https://localhost:8080/",
          "height": 1000
        },
        "id": "vY0wKszhqf1D",
        "outputId": "7c2654bf-8966-41a7-9852-bf3a804229e2"
      },
      "execution_count": null,
      "outputs": [
        {
          "output_type": "stream",
          "name": "stdout",
          "text": [
            "<class 'pandas.core.frame.DataFrame'>\n",
            "RangeIndex: 14081 entries, 0 to 14080\n",
            "Data columns (total 18 columns):\n",
            " #   Column          Non-Null Count  Dtype         \n",
            "---  ------          --------------  -----         \n",
            " 0   Unnamed: 0      14081 non-null  int64         \n",
            " 1   Promo_start     14081 non-null  datetime64[ns]\n",
            " 2   Promo_end       14081 non-null  datetime64[ns]\n",
            " 3   Shipping_start  14081 non-null  datetime64[ns]\n",
            " 4   Shipping_end    14081 non-null  datetime64[ns]\n",
            " 5   Promo_type      14081 non-null  object        \n",
            " 6   Feat_2          14081 non-null  float64       \n",
            " 7   Feat_3          14081 non-null  float64       \n",
            " 8   Agent           14081 non-null  object        \n",
            " 9   Promo_id        14081 non-null  object        \n",
            " 10  Item_id         14081 non-null  object        \n",
            " 11  Feat_7          14081 non-null  float64       \n",
            " 12  Promo_class     14081 non-null  object        \n",
            " 13  Feat_9          14081 non-null  float64       \n",
            " 14  Feat_10         14081 non-null  float64       \n",
            " 15  Feat_11         14081 non-null  float64       \n",
            " 16  Feat_12         14081 non-null  int64         \n",
            " 17  Target          14081 non-null  int64         \n",
            "dtypes: datetime64[ns](4), float64(6), int64(3), object(5)\n",
            "memory usage: 1.9+ MB\n"
          ]
        },
        {
          "output_type": "execute_result",
          "data": {
            "text/plain": [
              "       Unnamed: 0 Promo_start  Promo_end Shipping_start Shipping_end  \\\n",
              "1012         1012  2020-08-06 2020-08-26     2020-07-17   2020-08-27   \n",
              "3122         3122  2021-08-18 2021-08-24     2021-07-21   2021-08-16   \n",
              "10624       10624  2024-02-07 2024-02-29     2024-02-01   2024-02-29   \n",
              "11089       11089  2024-03-20 2024-03-26     2024-02-20   2024-03-26   \n",
              "9994         9994  2023-12-14 2023-12-31     2023-12-01   2023-12-31   \n",
              "6605         6605  2023-03-13 2023-03-19     2023-02-28   2023-03-20   \n",
              "2236         2236  2021-03-10 2021-03-16     2021-02-09   2021-03-06   \n",
              "2860         2860  2021-07-07 2021-07-13     2021-06-27   2021-06-29   \n",
              "1613         1613  2020-11-11 2020-11-17     2020-10-14   2020-11-08   \n",
              "7507         7507  2023-06-07 2023-06-13     2023-05-09   2023-06-10   \n",
              "\n",
              "      Promo_type        Feat_2     Feat_3 Agent       Promo_id  \\\n",
              "1012           L   2882.723910  37.486792     B   Promo №789.0   \n",
              "3122           A  16443.699655  78.975472     C  Promo №2159.0   \n",
              "10624          A   3578.860771  43.713208     A  Promo №5252.0   \n",
              "11089          F   9621.470074  58.220755     C  Promo №5247.0   \n",
              "9994           A   9773.860440  54.069811     A  Promo №5091.0   \n",
              "6605           L  28314.688325  78.975472     B  Promo №4311.0   \n",
              "2236           A   7677.940766  47.843396     C  Promo №1500.0   \n",
              "2860           F  31404.458214  68.598113     C  Promo №2055.0   \n",
              "1613           L  33049.832457  58.220755     C  Promo №1013.0   \n",
              "7507           J   7128.010314  58.200000     C  Promo №4515.0   \n",
              "\n",
              "              Item_id       Feat_7 Promo_class        Feat_9       Feat_10  \\\n",
              "1012     Item ID: 8.0     1.000000           D  9.938127e+07  2.263735e+07   \n",
              "3122   Item ID: 130.0     1.000000           D  9.938127e+07  2.263735e+07   \n",
              "10624    Item ID: 3.0     1.000000           D  9.938127e+07  2.263735e+07   \n",
              "11089  Item ID: 145.0  2126.361753           D  8.663882e+07  8.196456e+05   \n",
              "9994    Item ID: 37.0     1.000000           D  9.938127e+07  2.263735e+07   \n",
              "6605    Item ID: 63.0  9523.787899           D  1.438436e+06  1.827415e+06   \n",
              "2236    Item ID: 37.0     1.000000           D  9.938127e+07  2.263735e+07   \n",
              "2860    Item ID: 50.0     1.000000           D  9.938127e+07  2.263735e+07   \n",
              "1613    Item ID: 84.0     1.000000           D  9.938127e+07  2.263735e+07   \n",
              "7507    Item ID: 66.0   900.752687           D  2.981453e+07  4.113018e+05   \n",
              "\n",
              "         Feat_11  Feat_12  Target  \n",
              "1012    1.851003    60352    3966  \n",
              "3122    1.851003    53649    1809  \n",
              "10624   1.851003    72568   14126  \n",
              "11089  52.060172    17990     152  \n",
              "9994    1.851003    14461    4286  \n",
              "6605   12.063037    64554    5034  \n",
              "2236    1.851003    84673    9387  \n",
              "2860    1.851003    34779      36  \n",
              "1613    1.851003    48293     101  \n",
              "7507   58.300860    12706      70  "
            ],
            "text/html": [
              "\n",
              "  <div id=\"df-fd76684f-7d05-4bb7-80bf-ac0ba4c2f725\" class=\"colab-df-container\">\n",
              "    <div>\n",
              "<style scoped>\n",
              "    .dataframe tbody tr th:only-of-type {\n",
              "        vertical-align: middle;\n",
              "    }\n",
              "\n",
              "    .dataframe tbody tr th {\n",
              "        vertical-align: top;\n",
              "    }\n",
              "\n",
              "    .dataframe thead th {\n",
              "        text-align: right;\n",
              "    }\n",
              "</style>\n",
              "<table border=\"1\" class=\"dataframe\">\n",
              "  <thead>\n",
              "    <tr style=\"text-align: right;\">\n",
              "      <th></th>\n",
              "      <th>Unnamed: 0</th>\n",
              "      <th>Promo_start</th>\n",
              "      <th>Promo_end</th>\n",
              "      <th>Shipping_start</th>\n",
              "      <th>Shipping_end</th>\n",
              "      <th>Promo_type</th>\n",
              "      <th>Feat_2</th>\n",
              "      <th>Feat_3</th>\n",
              "      <th>Agent</th>\n",
              "      <th>Promo_id</th>\n",
              "      <th>Item_id</th>\n",
              "      <th>Feat_7</th>\n",
              "      <th>Promo_class</th>\n",
              "      <th>Feat_9</th>\n",
              "      <th>Feat_10</th>\n",
              "      <th>Feat_11</th>\n",
              "      <th>Feat_12</th>\n",
              "      <th>Target</th>\n",
              "    </tr>\n",
              "  </thead>\n",
              "  <tbody>\n",
              "    <tr>\n",
              "      <th>1012</th>\n",
              "      <td>1012</td>\n",
              "      <td>2020-08-06</td>\n",
              "      <td>2020-08-26</td>\n",
              "      <td>2020-07-17</td>\n",
              "      <td>2020-08-27</td>\n",
              "      <td>L</td>\n",
              "      <td>2882.723910</td>\n",
              "      <td>37.486792</td>\n",
              "      <td>B</td>\n",
              "      <td>Promo №789.0</td>\n",
              "      <td>Item ID: 8.0</td>\n",
              "      <td>1.000000</td>\n",
              "      <td>D</td>\n",
              "      <td>9.938127e+07</td>\n",
              "      <td>2.263735e+07</td>\n",
              "      <td>1.851003</td>\n",
              "      <td>60352</td>\n",
              "      <td>3966</td>\n",
              "    </tr>\n",
              "    <tr>\n",
              "      <th>3122</th>\n",
              "      <td>3122</td>\n",
              "      <td>2021-08-18</td>\n",
              "      <td>2021-08-24</td>\n",
              "      <td>2021-07-21</td>\n",
              "      <td>2021-08-16</td>\n",
              "      <td>A</td>\n",
              "      <td>16443.699655</td>\n",
              "      <td>78.975472</td>\n",
              "      <td>C</td>\n",
              "      <td>Promo №2159.0</td>\n",
              "      <td>Item ID: 130.0</td>\n",
              "      <td>1.000000</td>\n",
              "      <td>D</td>\n",
              "      <td>9.938127e+07</td>\n",
              "      <td>2.263735e+07</td>\n",
              "      <td>1.851003</td>\n",
              "      <td>53649</td>\n",
              "      <td>1809</td>\n",
              "    </tr>\n",
              "    <tr>\n",
              "      <th>10624</th>\n",
              "      <td>10624</td>\n",
              "      <td>2024-02-07</td>\n",
              "      <td>2024-02-29</td>\n",
              "      <td>2024-02-01</td>\n",
              "      <td>2024-02-29</td>\n",
              "      <td>A</td>\n",
              "      <td>3578.860771</td>\n",
              "      <td>43.713208</td>\n",
              "      <td>A</td>\n",
              "      <td>Promo №5252.0</td>\n",
              "      <td>Item ID: 3.0</td>\n",
              "      <td>1.000000</td>\n",
              "      <td>D</td>\n",
              "      <td>9.938127e+07</td>\n",
              "      <td>2.263735e+07</td>\n",
              "      <td>1.851003</td>\n",
              "      <td>72568</td>\n",
              "      <td>14126</td>\n",
              "    </tr>\n",
              "    <tr>\n",
              "      <th>11089</th>\n",
              "      <td>11089</td>\n",
              "      <td>2024-03-20</td>\n",
              "      <td>2024-03-26</td>\n",
              "      <td>2024-02-20</td>\n",
              "      <td>2024-03-26</td>\n",
              "      <td>F</td>\n",
              "      <td>9621.470074</td>\n",
              "      <td>58.220755</td>\n",
              "      <td>C</td>\n",
              "      <td>Promo №5247.0</td>\n",
              "      <td>Item ID: 145.0</td>\n",
              "      <td>2126.361753</td>\n",
              "      <td>D</td>\n",
              "      <td>8.663882e+07</td>\n",
              "      <td>8.196456e+05</td>\n",
              "      <td>52.060172</td>\n",
              "      <td>17990</td>\n",
              "      <td>152</td>\n",
              "    </tr>\n",
              "    <tr>\n",
              "      <th>9994</th>\n",
              "      <td>9994</td>\n",
              "      <td>2023-12-14</td>\n",
              "      <td>2023-12-31</td>\n",
              "      <td>2023-12-01</td>\n",
              "      <td>2023-12-31</td>\n",
              "      <td>A</td>\n",
              "      <td>9773.860440</td>\n",
              "      <td>54.069811</td>\n",
              "      <td>A</td>\n",
              "      <td>Promo №5091.0</td>\n",
              "      <td>Item ID: 37.0</td>\n",
              "      <td>1.000000</td>\n",
              "      <td>D</td>\n",
              "      <td>9.938127e+07</td>\n",
              "      <td>2.263735e+07</td>\n",
              "      <td>1.851003</td>\n",
              "      <td>14461</td>\n",
              "      <td>4286</td>\n",
              "    </tr>\n",
              "    <tr>\n",
              "      <th>6605</th>\n",
              "      <td>6605</td>\n",
              "      <td>2023-03-13</td>\n",
              "      <td>2023-03-19</td>\n",
              "      <td>2023-02-28</td>\n",
              "      <td>2023-03-20</td>\n",
              "      <td>L</td>\n",
              "      <td>28314.688325</td>\n",
              "      <td>78.975472</td>\n",
              "      <td>B</td>\n",
              "      <td>Promo №4311.0</td>\n",
              "      <td>Item ID: 63.0</td>\n",
              "      <td>9523.787899</td>\n",
              "      <td>D</td>\n",
              "      <td>1.438436e+06</td>\n",
              "      <td>1.827415e+06</td>\n",
              "      <td>12.063037</td>\n",
              "      <td>64554</td>\n",
              "      <td>5034</td>\n",
              "    </tr>\n",
              "    <tr>\n",
              "      <th>2236</th>\n",
              "      <td>2236</td>\n",
              "      <td>2021-03-10</td>\n",
              "      <td>2021-03-16</td>\n",
              "      <td>2021-02-09</td>\n",
              "      <td>2021-03-06</td>\n",
              "      <td>A</td>\n",
              "      <td>7677.940766</td>\n",
              "      <td>47.843396</td>\n",
              "      <td>C</td>\n",
              "      <td>Promo №1500.0</td>\n",
              "      <td>Item ID: 37.0</td>\n",
              "      <td>1.000000</td>\n",
              "      <td>D</td>\n",
              "      <td>9.938127e+07</td>\n",
              "      <td>2.263735e+07</td>\n",
              "      <td>1.851003</td>\n",
              "      <td>84673</td>\n",
              "      <td>9387</td>\n",
              "    </tr>\n",
              "    <tr>\n",
              "      <th>2860</th>\n",
              "      <td>2860</td>\n",
              "      <td>2021-07-07</td>\n",
              "      <td>2021-07-13</td>\n",
              "      <td>2021-06-27</td>\n",
              "      <td>2021-06-29</td>\n",
              "      <td>F</td>\n",
              "      <td>31404.458214</td>\n",
              "      <td>68.598113</td>\n",
              "      <td>C</td>\n",
              "      <td>Promo №2055.0</td>\n",
              "      <td>Item ID: 50.0</td>\n",
              "      <td>1.000000</td>\n",
              "      <td>D</td>\n",
              "      <td>9.938127e+07</td>\n",
              "      <td>2.263735e+07</td>\n",
              "      <td>1.851003</td>\n",
              "      <td>34779</td>\n",
              "      <td>36</td>\n",
              "    </tr>\n",
              "    <tr>\n",
              "      <th>1613</th>\n",
              "      <td>1613</td>\n",
              "      <td>2020-11-11</td>\n",
              "      <td>2020-11-17</td>\n",
              "      <td>2020-10-14</td>\n",
              "      <td>2020-11-08</td>\n",
              "      <td>L</td>\n",
              "      <td>33049.832457</td>\n",
              "      <td>58.220755</td>\n",
              "      <td>C</td>\n",
              "      <td>Promo №1013.0</td>\n",
              "      <td>Item ID: 84.0</td>\n",
              "      <td>1.000000</td>\n",
              "      <td>D</td>\n",
              "      <td>9.938127e+07</td>\n",
              "      <td>2.263735e+07</td>\n",
              "      <td>1.851003</td>\n",
              "      <td>48293</td>\n",
              "      <td>101</td>\n",
              "    </tr>\n",
              "    <tr>\n",
              "      <th>7507</th>\n",
              "      <td>7507</td>\n",
              "      <td>2023-06-07</td>\n",
              "      <td>2023-06-13</td>\n",
              "      <td>2023-05-09</td>\n",
              "      <td>2023-06-10</td>\n",
              "      <td>J</td>\n",
              "      <td>7128.010314</td>\n",
              "      <td>58.200000</td>\n",
              "      <td>C</td>\n",
              "      <td>Promo №4515.0</td>\n",
              "      <td>Item ID: 66.0</td>\n",
              "      <td>900.752687</td>\n",
              "      <td>D</td>\n",
              "      <td>2.981453e+07</td>\n",
              "      <td>4.113018e+05</td>\n",
              "      <td>58.300860</td>\n",
              "      <td>12706</td>\n",
              "      <td>70</td>\n",
              "    </tr>\n",
              "  </tbody>\n",
              "</table>\n",
              "</div>\n",
              "    <div class=\"colab-df-buttons\">\n",
              "\n",
              "  <div class=\"colab-df-container\">\n",
              "    <button class=\"colab-df-convert\" onclick=\"convertToInteractive('df-fd76684f-7d05-4bb7-80bf-ac0ba4c2f725')\"\n",
              "            title=\"Convert this dataframe to an interactive table.\"\n",
              "            style=\"display:none;\">\n",
              "\n",
              "  <svg xmlns=\"http://www.w3.org/2000/svg\" height=\"24px\" viewBox=\"0 -960 960 960\">\n",
              "    <path d=\"M120-120v-720h720v720H120Zm60-500h600v-160H180v160Zm220 220h160v-160H400v160Zm0 220h160v-160H400v160ZM180-400h160v-160H180v160Zm440 0h160v-160H620v160ZM180-180h160v-160H180v160Zm440 0h160v-160H620v160Z\"/>\n",
              "  </svg>\n",
              "    </button>\n",
              "\n",
              "  <style>\n",
              "    .colab-df-container {\n",
              "      display:flex;\n",
              "      gap: 12px;\n",
              "    }\n",
              "\n",
              "    .colab-df-convert {\n",
              "      background-color: #E8F0FE;\n",
              "      border: none;\n",
              "      border-radius: 50%;\n",
              "      cursor: pointer;\n",
              "      display: none;\n",
              "      fill: #1967D2;\n",
              "      height: 32px;\n",
              "      padding: 0 0 0 0;\n",
              "      width: 32px;\n",
              "    }\n",
              "\n",
              "    .colab-df-convert:hover {\n",
              "      background-color: #E2EBFA;\n",
              "      box-shadow: 0px 1px 2px rgba(60, 64, 67, 0.3), 0px 1px 3px 1px rgba(60, 64, 67, 0.15);\n",
              "      fill: #174EA6;\n",
              "    }\n",
              "\n",
              "    .colab-df-buttons div {\n",
              "      margin-bottom: 4px;\n",
              "    }\n",
              "\n",
              "    [theme=dark] .colab-df-convert {\n",
              "      background-color: #3B4455;\n",
              "      fill: #D2E3FC;\n",
              "    }\n",
              "\n",
              "    [theme=dark] .colab-df-convert:hover {\n",
              "      background-color: #434B5C;\n",
              "      box-shadow: 0px 1px 3px 1px rgba(0, 0, 0, 0.15);\n",
              "      filter: drop-shadow(0px 1px 2px rgba(0, 0, 0, 0.3));\n",
              "      fill: #FFFFFF;\n",
              "    }\n",
              "  </style>\n",
              "\n",
              "    <script>\n",
              "      const buttonEl =\n",
              "        document.querySelector('#df-fd76684f-7d05-4bb7-80bf-ac0ba4c2f725 button.colab-df-convert');\n",
              "      buttonEl.style.display =\n",
              "        google.colab.kernel.accessAllowed ? 'block' : 'none';\n",
              "\n",
              "      async function convertToInteractive(key) {\n",
              "        const element = document.querySelector('#df-fd76684f-7d05-4bb7-80bf-ac0ba4c2f725');\n",
              "        const dataTable =\n",
              "          await google.colab.kernel.invokeFunction('convertToInteractive',\n",
              "                                                    [key], {});\n",
              "        if (!dataTable) return;\n",
              "\n",
              "        const docLinkHtml = 'Like what you see? Visit the ' +\n",
              "          '<a target=\"_blank\" href=https://colab.research.google.com/notebooks/data_table.ipynb>data table notebook</a>'\n",
              "          + ' to learn more about interactive tables.';\n",
              "        element.innerHTML = '';\n",
              "        dataTable['output_type'] = 'display_data';\n",
              "        await google.colab.output.renderOutput(dataTable, element);\n",
              "        const docLink = document.createElement('div');\n",
              "        docLink.innerHTML = docLinkHtml;\n",
              "        element.appendChild(docLink);\n",
              "      }\n",
              "    </script>\n",
              "  </div>\n",
              "\n",
              "\n",
              "<div id=\"df-75fdd66f-658e-4e8a-a104-a2b2b95a8f43\">\n",
              "  <button class=\"colab-df-quickchart\" onclick=\"quickchart('df-75fdd66f-658e-4e8a-a104-a2b2b95a8f43')\"\n",
              "            title=\"Suggest charts\"\n",
              "            style=\"display:none;\">\n",
              "\n",
              "<svg xmlns=\"http://www.w3.org/2000/svg\" height=\"24px\"viewBox=\"0 0 24 24\"\n",
              "     width=\"24px\">\n",
              "    <g>\n",
              "        <path d=\"M19 3H5c-1.1 0-2 .9-2 2v14c0 1.1.9 2 2 2h14c1.1 0 2-.9 2-2V5c0-1.1-.9-2-2-2zM9 17H7v-7h2v7zm4 0h-2V7h2v10zm4 0h-2v-4h2v4z\"/>\n",
              "    </g>\n",
              "</svg>\n",
              "  </button>\n",
              "\n",
              "<style>\n",
              "  .colab-df-quickchart {\n",
              "      --bg-color: #E8F0FE;\n",
              "      --fill-color: #1967D2;\n",
              "      --hover-bg-color: #E2EBFA;\n",
              "      --hover-fill-color: #174EA6;\n",
              "      --disabled-fill-color: #AAA;\n",
              "      --disabled-bg-color: #DDD;\n",
              "  }\n",
              "\n",
              "  [theme=dark] .colab-df-quickchart {\n",
              "      --bg-color: #3B4455;\n",
              "      --fill-color: #D2E3FC;\n",
              "      --hover-bg-color: #434B5C;\n",
              "      --hover-fill-color: #FFFFFF;\n",
              "      --disabled-bg-color: #3B4455;\n",
              "      --disabled-fill-color: #666;\n",
              "  }\n",
              "\n",
              "  .colab-df-quickchart {\n",
              "    background-color: var(--bg-color);\n",
              "    border: none;\n",
              "    border-radius: 50%;\n",
              "    cursor: pointer;\n",
              "    display: none;\n",
              "    fill: var(--fill-color);\n",
              "    height: 32px;\n",
              "    padding: 0;\n",
              "    width: 32px;\n",
              "  }\n",
              "\n",
              "  .colab-df-quickchart:hover {\n",
              "    background-color: var(--hover-bg-color);\n",
              "    box-shadow: 0 1px 2px rgba(60, 64, 67, 0.3), 0 1px 3px 1px rgba(60, 64, 67, 0.15);\n",
              "    fill: var(--button-hover-fill-color);\n",
              "  }\n",
              "\n",
              "  .colab-df-quickchart-complete:disabled,\n",
              "  .colab-df-quickchart-complete:disabled:hover {\n",
              "    background-color: var(--disabled-bg-color);\n",
              "    fill: var(--disabled-fill-color);\n",
              "    box-shadow: none;\n",
              "  }\n",
              "\n",
              "  .colab-df-spinner {\n",
              "    border: 2px solid var(--fill-color);\n",
              "    border-color: transparent;\n",
              "    border-bottom-color: var(--fill-color);\n",
              "    animation:\n",
              "      spin 1s steps(1) infinite;\n",
              "  }\n",
              "\n",
              "  @keyframes spin {\n",
              "    0% {\n",
              "      border-color: transparent;\n",
              "      border-bottom-color: var(--fill-color);\n",
              "      border-left-color: var(--fill-color);\n",
              "    }\n",
              "    20% {\n",
              "      border-color: transparent;\n",
              "      border-left-color: var(--fill-color);\n",
              "      border-top-color: var(--fill-color);\n",
              "    }\n",
              "    30% {\n",
              "      border-color: transparent;\n",
              "      border-left-color: var(--fill-color);\n",
              "      border-top-color: var(--fill-color);\n",
              "      border-right-color: var(--fill-color);\n",
              "    }\n",
              "    40% {\n",
              "      border-color: transparent;\n",
              "      border-right-color: var(--fill-color);\n",
              "      border-top-color: var(--fill-color);\n",
              "    }\n",
              "    60% {\n",
              "      border-color: transparent;\n",
              "      border-right-color: var(--fill-color);\n",
              "    }\n",
              "    80% {\n",
              "      border-color: transparent;\n",
              "      border-right-color: var(--fill-color);\n",
              "      border-bottom-color: var(--fill-color);\n",
              "    }\n",
              "    90% {\n",
              "      border-color: transparent;\n",
              "      border-bottom-color: var(--fill-color);\n",
              "    }\n",
              "  }\n",
              "</style>\n",
              "\n",
              "  <script>\n",
              "    async function quickchart(key) {\n",
              "      const quickchartButtonEl =\n",
              "        document.querySelector('#' + key + ' button');\n",
              "      quickchartButtonEl.disabled = true;  // To prevent multiple clicks.\n",
              "      quickchartButtonEl.classList.add('colab-df-spinner');\n",
              "      try {\n",
              "        const charts = await google.colab.kernel.invokeFunction(\n",
              "            'suggestCharts', [key], {});\n",
              "      } catch (error) {\n",
              "        console.error('Error during call to suggestCharts:', error);\n",
              "      }\n",
              "      quickchartButtonEl.classList.remove('colab-df-spinner');\n",
              "      quickchartButtonEl.classList.add('colab-df-quickchart-complete');\n",
              "    }\n",
              "    (() => {\n",
              "      let quickchartButtonEl =\n",
              "        document.querySelector('#df-75fdd66f-658e-4e8a-a104-a2b2b95a8f43 button');\n",
              "      quickchartButtonEl.style.display =\n",
              "        google.colab.kernel.accessAllowed ? 'block' : 'none';\n",
              "    })();\n",
              "  </script>\n",
              "</div>\n",
              "    </div>\n",
              "  </div>\n"
            ],
            "application/vnd.google.colaboratory.intrinsic+json": {
              "type": "dataframe",
              "summary": "{\n  \"name\": \"data\",\n  \"rows\": 10,\n  \"fields\": [\n    {\n      \"column\": \"Unnamed: 0\",\n      \"properties\": {\n        \"dtype\": \"number\",\n        \"std\": 3960,\n        \"min\": 1012,\n        \"max\": 11089,\n        \"num_unique_values\": 10,\n        \"samples\": [\n          1613,\n          3122,\n          6605\n        ],\n        \"semantic_type\": \"\",\n        \"description\": \"\"\n      }\n    },\n    {\n      \"column\": \"Promo_start\",\n      \"properties\": {\n        \"dtype\": \"date\",\n        \"min\": \"2020-08-06 00:00:00\",\n        \"max\": \"2024-03-20 00:00:00\",\n        \"num_unique_values\": 10,\n        \"samples\": [\n          \"2020-11-11 00:00:00\",\n          \"2021-08-18 00:00:00\",\n          \"2023-03-13 00:00:00\"\n        ],\n        \"semantic_type\": \"\",\n        \"description\": \"\"\n      }\n    },\n    {\n      \"column\": \"Promo_end\",\n      \"properties\": {\n        \"dtype\": \"date\",\n        \"min\": \"2020-08-26 00:00:00\",\n        \"max\": \"2024-03-26 00:00:00\",\n        \"num_unique_values\": 10,\n        \"samples\": [\n          \"2020-11-17 00:00:00\",\n          \"2021-08-24 00:00:00\",\n          \"2023-03-19 00:00:00\"\n        ],\n        \"semantic_type\": \"\",\n        \"description\": \"\"\n      }\n    },\n    {\n      \"column\": \"Shipping_start\",\n      \"properties\": {\n        \"dtype\": \"date\",\n        \"min\": \"2020-07-17 00:00:00\",\n        \"max\": \"2024-02-20 00:00:00\",\n        \"num_unique_values\": 10,\n        \"samples\": [\n          \"2020-10-14 00:00:00\",\n          \"2021-07-21 00:00:00\",\n          \"2023-02-28 00:00:00\"\n        ],\n        \"semantic_type\": \"\",\n        \"description\": \"\"\n      }\n    },\n    {\n      \"column\": \"Shipping_end\",\n      \"properties\": {\n        \"dtype\": \"date\",\n        \"min\": \"2020-08-27 00:00:00\",\n        \"max\": \"2024-03-26 00:00:00\",\n        \"num_unique_values\": 10,\n        \"samples\": [\n          \"2020-11-08 00:00:00\",\n          \"2021-08-16 00:00:00\",\n          \"2023-03-20 00:00:00\"\n        ],\n        \"semantic_type\": \"\",\n        \"description\": \"\"\n      }\n    },\n    {\n      \"column\": \"Promo_type\",\n      \"properties\": {\n        \"dtype\": \"category\",\n        \"num_unique_values\": 4,\n        \"samples\": [\n          \"A\",\n          \"J\",\n          \"L\"\n        ],\n        \"semantic_type\": \"\",\n        \"description\": \"\"\n      }\n    },\n    {\n      \"column\": \"Feat_2\",\n      \"properties\": {\n        \"dtype\": \"number\",\n        \"std\": 11658.849948271598,\n        \"min\": 2882.723910066699,\n        \"max\": 33049.83245726402,\n        \"num_unique_values\": 10,\n        \"samples\": [\n          33049.83245726402,\n          16443.69965546182,\n          28314.68832545607\n        ],\n        \"semantic_type\": \"\",\n        \"description\": \"\"\n      }\n    },\n    {\n      \"column\": \"Feat_3\",\n      \"properties\": {\n        \"dtype\": \"number\",\n        \"std\": 13.880654618694582,\n        \"min\": 37.48679245283019,\n        \"max\": 78.97547169811321,\n        \"num_unique_values\": 8,\n        \"samples\": [\n          78.97547169811321,\n          47.84339622641509,\n          37.48679245283019\n        ],\n        \"semantic_type\": \"\",\n        \"description\": \"\"\n      }\n    },\n    {\n      \"column\": \"Agent\",\n      \"properties\": {\n        \"dtype\": \"category\",\n        \"num_unique_values\": 3,\n        \"samples\": [\n          \"B\",\n          \"C\",\n          \"A\"\n        ],\n        \"semantic_type\": \"\",\n        \"description\": \"\"\n      }\n    },\n    {\n      \"column\": \"Promo_id\",\n      \"properties\": {\n        \"dtype\": \"string\",\n        \"num_unique_values\": 10,\n        \"samples\": [\n          \"Promo \\u21161013.0\",\n          \"Promo \\u21162159.0\",\n          \"Promo \\u21164311.0\"\n        ],\n        \"semantic_type\": \"\",\n        \"description\": \"\"\n      }\n    },\n    {\n      \"column\": \"Item_id\",\n      \"properties\": {\n        \"dtype\": \"string\",\n        \"num_unique_values\": 9,\n        \"samples\": [\n          \"Item ID: 84.0\",\n          \"Item ID: 130.0\",\n          \"Item ID: 63.0\"\n        ],\n        \"semantic_type\": \"\",\n        \"description\": \"\"\n      }\n    },\n    {\n      \"column\": \"Feat_7\",\n      \"properties\": {\n        \"dtype\": \"number\",\n        \"std\": 2986.3619923448464,\n        \"min\": 1.0,\n        \"max\": 9523.787899421235,\n        \"num_unique_values\": 4,\n        \"samples\": [\n          2126.361752833034,\n          900.7526871261126,\n          1.0\n        ],\n        \"semantic_type\": \"\",\n        \"description\": \"\"\n      }\n    },\n    {\n      \"column\": \"Promo_class\",\n      \"properties\": {\n        \"dtype\": \"category\",\n        \"num_unique_values\": 1,\n        \"samples\": [\n          \"D\"\n        ],\n        \"semantic_type\": \"\",\n        \"description\": \"\"\n      }\n    },\n    {\n      \"column\": \"Feat_9\",\n      \"properties\": {\n        \"dtype\": \"number\",\n        \"std\": 35505275.24077045,\n        \"min\": 1438435.596177768,\n        \"max\": 99381270.91348922,\n        \"num_unique_values\": 4,\n        \"samples\": [\n          86638818.26989827\n        ],\n        \"semantic_type\": \"\",\n        \"description\": \"\"\n      }\n    },\n    {\n      \"column\": \"Feat_10\",\n      \"properties\": {\n        \"dtype\": \"number\",\n        \"std\": 10448086.07454015,\n        \"min\": 411301.8395364269,\n        \"max\": 22637347.4816543,\n        \"num_unique_values\": 4,\n        \"samples\": [\n          819645.5573675814\n        ],\n        \"semantic_type\": \"\",\n        \"description\": \"\"\n      }\n    },\n    {\n      \"column\": \"Feat_11\",\n      \"properties\": {\n        \"dtype\": \"number\",\n        \"std\": 22.225981188342768,\n        \"min\": 1.8510028653295125,\n        \"max\": 58.30085959885387,\n        \"num_unique_values\": 4,\n        \"samples\": [\n          52.06017191977077\n        ],\n        \"semantic_type\": \"\",\n        \"description\": \"\"\n      }\n    },\n    {\n      \"column\": \"Feat_12\",\n      \"properties\": {\n        \"dtype\": \"number\",\n        \"std\": 25446,\n        \"min\": 12706,\n        \"max\": 84673,\n        \"num_unique_values\": 10,\n        \"samples\": [\n          48293\n        ],\n        \"semantic_type\": \"\",\n        \"description\": \"\"\n      }\n    },\n    {\n      \"column\": \"Target\",\n      \"properties\": {\n        \"dtype\": \"number\",\n        \"std\": 4697,\n        \"min\": 36,\n        \"max\": 14126,\n        \"num_unique_values\": 10,\n        \"samples\": [\n          101\n        ],\n        \"semantic_type\": \"\",\n        \"description\": \"\"\n      }\n    }\n  ]\n}"
            }
          },
          "metadata": {},
          "execution_count": 13
        }
      ]
    },
    {
      "cell_type": "code",
      "source": [
        "'''\n",
        "data[problem_columns] = data[problem_columns].fillna(data[problem_columns].mean())\n",
        "data.info()\n",
        "'''"
      ],
      "metadata": {
        "colab": {
          "base_uri": "https://localhost:8080/",
          "height": 54
        },
        "id": "TXpcUnHnGyzA",
        "outputId": "c9f450ed-b172-4b93-d6e0-351b2ca654ed"
      },
      "execution_count": null,
      "outputs": [
        {
          "output_type": "execute_result",
          "data": {
            "text/plain": [
              "'\\ndata[problem_columns] = data[problem_columns].fillna(data[problem_columns].mean())\\ndata.info()\\n'"
            ],
            "application/vnd.google.colaboratory.intrinsic+json": {
              "type": "string"
            }
          },
          "metadata": {},
          "execution_count": 14
        }
      ]
    },
    {
      "cell_type": "code",
      "source": [
        "# @title таргет\n",
        "\n",
        "plt.hist(data['Target'])\n",
        "print(np.shape(data['Target']))"
      ],
      "metadata": {
        "colab": {
          "base_uri": "https://localhost:8080/",
          "height": 448
        },
        "id": "jM7h5LHaQaCH",
        "outputId": "2fc3464f-c0ba-46f4-92a5-322c2a1683ee"
      },
      "execution_count": null,
      "outputs": [
        {
          "output_type": "stream",
          "name": "stdout",
          "text": [
            "(14081,)\n"
          ]
        },
        {
          "output_type": "display_data",
          "data": {
            "text/plain": [
              "<Figure size 640x480 with 1 Axes>"
            ],
            "image/png": "[encoded data removed]"
          },
          "metadata": {}
        }
      ]
    },
    {
      "cell_type": "code",
      "source": [
        "data = data.dropna(axis=0)\n",
        "plt.hist(data['Target'])\n",
        "print(np.shape(data['Target']))"
      ],
      "metadata": {
        "colab": {
          "base_uri": "https://localhost:8080/",
          "height": 448
        },
        "id": "cQYzZFGQkwlV",
        "outputId": "e64cc43f-7861-45d2-c064-976ce055940e"
      },
      "execution_count": null,
      "outputs": [
        {
          "output_type": "stream",
          "name": "stdout",
          "text": [
            "(14081,)\n"
          ]
        },
        {
          "output_type": "display_data",
          "data": {
            "text/plain": [
              "<Figure size 640x480 with 1 Axes>"
            ],
            "image/png": "[encoded data removed]"
          },
          "metadata": {}
        }
      ]
    },
    {
      "cell_type": "code",
      "source": [
        "targ = data['Target'].copy()\n",
        "targ = targ[targ < 10000]\n",
        "plt.hist(targ)\n",
        "print(np.shape(targ))"
      ],
      "metadata": {
        "colab": {
          "base_uri": "https://localhost:8080/",
          "height": 452
        },
        "id": "KQ1Z8tS_qY1O",
        "outputId": "f6d20691-5a44-429a-9cca-3cb2bf0cc748"
      },
      "execution_count": null,
      "outputs": [
        {
          "output_type": "stream",
          "name": "stdout",
          "text": [
            "(13022,)\n"
          ]
        },
        {
          "output_type": "display_data",
          "data": {
            "text/plain": [
              "<Figure size 640x480 with 1 Axes>"
            ],
            "image/png": "[encoded data removed]"
          },
          "metadata": {}
        }
      ]
    },
    {
      "cell_type": "code",
      "source": [
        "data = data[data['Target'] < 10000]"
      ],
      "metadata": {
        "id": "IO39KCPe3FLA"
      },
      "execution_count": null,
      "outputs": []
    },
    {
      "cell_type": "code",
      "source": [
        "# @title длительность акции\n",
        "\n",
        "data['Promo_time'] = (data['Promo_end'] - data['Promo_start']).dt.days\n",
        "plt.hist(data['Promo_time'])\n",
        "data['Promo_time'].head()"
      ],
      "metadata": {
        "colab": {
          "base_uri": "https://localhost:8080/",
          "height": 783
        },
        "id": "R613_yYGVqT1",
        "outputId": "96c89508-1ac6-4382-cf99-b16edd3fc22b"
      },
      "execution_count": null,
      "outputs": [
        {
          "output_type": "stream",
          "name": "stderr",
          "text": [
            "<ipython-input-19-7bdbf75efc2a>:3: SettingWithCopyWarning: \n",
            "A value is trying to be set on a copy of a slice from a DataFrame.\n",
            "Try using .loc[row_indexer,col_indexer] = value instead\n",
            "\n",
            "See the caveats in the documentation: https://pandas.pydata.org/pandas-docs/stable/user_guide/indexing.html#returning-a-view-versus-a-copy\n",
            "  data['Promo_time'] = (data['Promo_end'] - data['Promo_start']).dt.days\n"
          ]
        },
        {
          "output_type": "execute_result",
          "data": {
            "text/plain": [
              "0    6\n",
              "2    6\n",
              "3    6\n",
              "4    6\n",
              "5    6\n",
              "Name: Promo_time, dtype: int64"
            ],
            "text/html": [
              "<div>\n",
              "<style scoped>\n",
              "    .dataframe tbody tr th:only-of-type {\n",
              "        vertical-align: middle;\n",
              "    }\n",
              "\n",
              "    .dataframe tbody tr th {\n",
              "        vertical-align: top;\n",
              "    }\n",
              "\n",
              "    .dataframe thead th {\n",
              "        text-align: right;\n",
              "    }\n",
              "</style>\n",
              "<table border=\"1\" class=\"dataframe\">\n",
              "  <thead>\n",
              "    <tr style=\"text-align: right;\">\n",
              "      <th></th>\n",
              "      <th>Promo_time</th>\n",
              "    </tr>\n",
              "  </thead>\n",
              "  <tbody>\n",
              "    <tr>\n",
              "      <th>0</th>\n",
              "      <td>6</td>\n",
              "    </tr>\n",
              "    <tr>\n",
              "      <th>2</th>\n",
              "      <td>6</td>\n",
              "    </tr>\n",
              "    <tr>\n",
              "      <th>3</th>\n",
              "      <td>6</td>\n",
              "    </tr>\n",
              "    <tr>\n",
              "      <th>4</th>\n",
              "      <td>6</td>\n",
              "    </tr>\n",
              "    <tr>\n",
              "      <th>5</th>\n",
              "      <td>6</td>\n",
              "    </tr>\n",
              "  </tbody>\n",
              "</table>\n",
              "</div><br><label><b>dtype:</b> int64</label>"
            ]
          },
          "metadata": {},
          "execution_count": 19
        },
        {
          "output_type": "display_data",
          "data": {
            "text/plain": [
              "<Figure size 640x480 with 1 Axes>"
            ],
            "image/png": "[encoded data removed]"
          },
          "metadata": {}
        }
      ]
    },
    {
      "cell_type": "code",
      "source": [
        "# @title длительность отгрузки\n",
        "\n",
        "data['Shipping_time'] = (data['Shipping_end'] - data['Shipping_start']).dt.days.astype(int)\n",
        "plt.hist(data['Shipping_time'])"
      ],
      "metadata": {
        "colab": {
          "base_uri": "https://localhost:8080/",
          "height": 633
        },
        "id": "sUJYlbuWXK9c",
        "outputId": "906e20a4-05cc-49a9-c45e-b03ebcf4eb2e"
      },
      "execution_count": null,
      "outputs": [
        {
          "output_type": "stream",
          "name": "stderr",
          "text": [
            "<ipython-input-20-7875692bd99b>:3: SettingWithCopyWarning: \n",
            "A value is trying to be set on a copy of a slice from a DataFrame.\n",
            "Try using .loc[row_indexer,col_indexer] = value instead\n",
            "\n",
            "See the caveats in the documentation: https://pandas.pydata.org/pandas-docs/stable/user_guide/indexing.html#returning-a-view-versus-a-copy\n",
            "  data['Shipping_time'] = (data['Shipping_end'] - data['Shipping_start']).dt.days.astype(int)\n"
          ]
        },
        {
          "output_type": "execute_result",
          "data": {
            "text/plain": [
              "(array([2.950e+02, 9.210e+02, 5.283e+03, 4.592e+03, 1.295e+03, 5.490e+02,\n",
              "        6.200e+01, 1.500e+01, 6.000e+00, 4.000e+00]),\n",
              " array([ 0. ,  9.7, 19.4, 29.1, 38.8, 48.5, 58.2, 67.9, 77.6, 87.3, 97. ]),\n",
              " <BarContainer object of 10 artists>)"
            ]
          },
          "metadata": {},
          "execution_count": 20
        },
        {
          "output_type": "display_data",
          "data": {
            "text/plain": [
              "<Figure size 640x480 with 1 Axes>"
            ],
            "image/png": "[encoded data removed]"
          },
          "metadata": {}
        }
      ]
    },
    {
      "cell_type": "code",
      "source": [
        "data['Item_id'] = data['Item_id'].str.replace('Item ID: ', '')\n",
        "print(data['Item_id'])"
      ],
      "metadata": {
        "colab": {
          "base_uri": "https://localhost:8080/"
        },
        "id": "l8DqfT7poe5z",
        "outputId": "549f183f-8da5-4f04-a20f-63504a477570"
      },
      "execution_count": null,
      "outputs": [
        {
          "output_type": "stream",
          "name": "stdout",
          "text": [
            "0         22.0\n",
            "2         71.0\n",
            "3         31.0\n",
            "4         23.0\n",
            "5        108.0\n",
            "         ...  \n",
            "14076     24.0\n",
            "14077     26.0\n",
            "14078     27.0\n",
            "14079     48.0\n",
            "14080     44.0\n",
            "Name: Item_id, Length: 13022, dtype: object\n"
          ]
        }
      ]
    },
    {
      "cell_type": "code",
      "source": [
        "# @title train_test_split\n",
        "\n",
        "from sklearn.model_selection import train_test_split\n",
        "\n",
        "\n",
        "test_size = 0.2\n",
        "\n",
        "data_train, data_test, Y_train, Y_test = train_test_split(\n",
        "    data[data.columns.drop(\"Target\")],\n",
        "    np.array(data[\"Target\"]),\n",
        "    test_size=test_size,\n",
        "    random_state=seed)\n",
        "\n",
        "print(f\"Train : {data_train.shape} {Y_train.shape}\")\n",
        "print(f\"Test : {data_test.shape} {Y_test.shape}\")"
      ],
      "metadata": {
        "colab": {
          "base_uri": "https://localhost:8080/"
        },
        "id": "KoZ1AeKle9mq",
        "outputId": "bbcb46c6-4d12-4882-c475-a553a27bef0a"
      },
      "execution_count": null,
      "outputs": [
        {
          "output_type": "stream",
          "name": "stdout",
          "text": [
            "Train : (10417, 19) (10417,)\n",
            "Test : (2605, 19) (2605,)\n"
          ]
        }
      ]
    },
    {
      "cell_type": "code",
      "source": [
        "continuous_columns = [key for key in data.keys() if data[key].dtype in (\"int64\", \"float64\")]\n",
        "categorical_columns = [key for key in data.keys() if data[key].dtype == \"object\"]\n",
        "\n",
        "continuous_columns.remove('Target')\n",
        "continuous_columns.remove('Unnamed: 0')\n",
        "continuous_columns.remove('Shipping_time')\n",
        "\n",
        "categorical_columns.remove('Promo_id')\n",
        "#categorical_columns.remove('Item_id')\n",
        "\n",
        "print(f\"Continuous : {len(continuous_columns)}, Categorical : {len(categorical_columns)}\")\n",
        "print(continuous_columns)\n",
        "print(categorical_columns)"
      ],
      "metadata": {
        "colab": {
          "base_uri": "https://localhost:8080/"
        },
        "id": "7S3Rw-8Ehd2O",
        "outputId": "8adf98bc-1de4-42e5-b6bc-a27eeb061d41"
      },
      "execution_count": null,
      "outputs": [
        {
          "output_type": "stream",
          "name": "stdout",
          "text": [
            "Continuous : 8, Categorical : 4\n",
            "['Feat_2', 'Feat_3', 'Feat_7', 'Feat_9', 'Feat_10', 'Feat_11', 'Feat_12', 'Promo_time']\n",
            "['Promo_type', 'Agent', 'Item_id', 'Promo_class']\n"
          ]
        }
      ]
    },
    {
      "cell_type": "code",
      "source": [
        "# @title Preprocessing\n",
        "\n",
        "import pandas as pd\n",
        "import numpy as np\n",
        "from sklearn.preprocessing import StandardScaler, OneHotEncoder\n",
        "from sklearn.base import BaseEstimator, TransformerMixin\n",
        "from sklearn.compose import ColumnTransformer\n",
        "\n",
        "class DataPreprocessor(BaseEstimator, TransformerMixin):\n",
        "\n",
        "    def __init__(self, continuous_columns=None, categorical_columns=None):\n",
        "        self.continuous_columns = continuous_columns\n",
        "        self.categorical_columns = categorical_columns\n",
        "        self.preprocessor = None\n",
        "\n",
        "    def fit(self, data, y=None):\n",
        "        transformers = []\n",
        "\n",
        "        if self.continuous_columns is not None:\n",
        "            transformers.append(('scaler', StandardScaler(), self.continuous_columns))\n",
        "\n",
        "        if self.categorical_columns is not None:\n",
        "            transformers.append(('onehot', OneHotEncoder(handle_unknown='ignore', drop='first'), self.categorical_columns))\n",
        "\n",
        "        self.preprocessor = ColumnTransformer(transformers, remainder='drop')\n",
        "\n",
        "        self.preprocessor.fit(data)\n",
        "        return self\n",
        "\n",
        "    def transform(self, data: pd.DataFrame) -> np.array:\n",
        "        if self.preprocessor is None:\n",
        "            raise ValueError(\"Preprocessor has not been fitted. Please call fit before transform.\")\n",
        "        return self.preprocessor.transform(data)\n"
      ],
      "metadata": {
        "id": "5psgXFbFEpkw"
      },
      "execution_count": null,
      "outputs": []
    },
    {
      "cell_type": "code",
      "source": [
        "DP = DataPreprocessor(continuous_columns=continuous_columns, categorical_columns=categorical_columns)\n",
        "\n",
        "X_train = DP.fit_transform(data_train)\n",
        "X_test = DP.transform(data_test)"
      ],
      "metadata": {
        "id": "6D3GrmzDGy-f"
      },
      "execution_count": null,
      "outputs": []
    },
    {
      "cell_type": "code",
      "source": [
        "# @title Ridge\n",
        "\n",
        "from sklearn.linear_model import Ridge\n",
        "from sklearn.metrics import mean_absolute_error\n",
        "from sklearn.metrics import mean_absolute_percentage_error\n",
        "\n",
        "\n",
        "Regression = Ridge()\n",
        "Regression.fit(X_train, Y_train)\n",
        "answer_L2 = Regression.predict(X_test)\n",
        "print('MAE (Ridge):', mean_absolute_error(Y_test, answer_L2))\n",
        "print('MAPE (Ridge):', mean_absolute_percentage_error(Y_test, answer_L2))"
      ],
      "metadata": {
        "colab": {
          "base_uri": "https://localhost:8080/"
        },
        "id": "vMvQe6WuxdlH",
        "outputId": "88da09f0-b125-46e7-b353-d1d66e8c5daa"
      },
      "execution_count": null,
      "outputs": [
        {
          "output_type": "stream",
          "name": "stdout",
          "text": [
            "MAE (Ridge): 1150.9403648634886\n",
            "MAPE (Ridge): 6.593030408436406\n"
          ]
        }
      ]
    },
    {
      "cell_type": "code",
      "source": [
        "# @title GridSearchCV\n",
        "\n",
        "from sklearn.model_selection import GridSearchCV\n",
        "from sklearn.metrics import make_scorer\n",
        "\n",
        "\n",
        "param = {'alpha': np.logspace(-3, 3, num=7, base=10.)}\n",
        "print(param)\n",
        "\n",
        "regressor = Ridge()\n",
        "\n",
        "rgr = GridSearchCV(regressor, param_grid=param, scoring=make_scorer(mean_absolute_error, greater_is_better=False), cv=5)\n",
        "result = rgr.fit(X_train, Y_train).cv_results_\n",
        "# print(result, '\\n')\n",
        "\n",
        "number = list(result['rank_test_score']).index(1)\n",
        "best_par = rgr.best_params_['alpha']\n",
        "print('best_parametr: ', best_par)"
      ],
      "metadata": {
        "colab": {
          "base_uri": "https://localhost:8080/"
        },
        "id": "rLTDcueLyrQJ",
        "outputId": "947de938-ed29-419e-ca44-d00b897d1c8e"
      },
      "execution_count": null,
      "outputs": [
        {
          "output_type": "stream",
          "name": "stdout",
          "text": [
            "{'alpha': array([1.e-03, 1.e-02, 1.e-01, 1.e+00, 1.e+01, 1.e+02, 1.e+03])}\n",
            "best_parametr:  0.001\n"
          ]
        }
      ]
    },
    {
      "cell_type": "code",
      "source": [
        "print(X_test)"
      ],
      "metadata": {
        "colab": {
          "base_uri": "https://localhost:8080/"
        },
        "id": "beFxhhnpsrTL",
        "outputId": "a0fc983d-e367-4ef5-cbf2-c3612cdb6cdf"
      },
      "execution_count": null,
      "outputs": [
        {
          "output_type": "stream",
          "name": "stdout",
          "text": [
            "<Compressed Sparse Row sparse matrix of dtype 'float64'\n",
            "\twith 30504 stored elements and shape (2605, 183)>\n",
            "  Coords\tValues\n",
            "  (0, 0)\t-1.1181408523127405\n",
            "  (0, 1)\t0.5753871619683235\n",
            "  (0, 2)\t-0.5293106315892564\n",
            "  (0, 3)\t0.7490940534052206\n",
            "  (0, 4)\t0.7141970989053026\n",
            "  (0, 5)\t-0.6552588211351718\n",
            "  (0, 6)\t-0.6996178164517983\n",
            "  (0, 7)\t-0.621866137614477\n",
            "  (0, 17)\t1.0\n",
            "  (0, 19)\t1.0\n",
            "  (0, 139)\t1.0\n",
            "  (0, 182)\t1.0\n",
            "  (1, 0)\t-0.030106174119810352\n",
            "  (1, 1)\t0.9508132955152343\n",
            "  (1, 2)\t1.7974747816732652\n",
            "  (1, 3)\t-1.3001496473327805\n",
            "  (1, 4)\t-0.5232454129798176\n",
            "  (1, 5)\t0.3993935279305836\n",
            "  (1, 6)\t0.048320800858006746\n",
            "  (1, 7)\t-0.621866137614477\n",
            "  (1, 16)\t1.0\n",
            "  (1, 19)\t1.0\n",
            "  (1, 23)\t1.0\n",
            "  (1, 182)\t1.0\n",
            "  (2, 0)\t-0.9455627547108199\n",
            "  :\t:\n",
            "  (2602, 17)\t1.0\n",
            "  (2602, 94)\t1.0\n",
            "  (2602, 181)\t1.0\n",
            "  (2603, 0)\t1.0950585218488762\n",
            "  (2603, 1)\t1.8940950380954098\n",
            "  (2603, 2)\t-0.5293106315892564\n",
            "  (2603, 3)\t0.7490940534052206\n",
            "  (2603, 4)\t0.7141970989053026\n",
            "  (2603, 5)\t-0.6552588211351718\n",
            "  (2603, 6)\t-1.7138172918035406\n",
            "  (2603, 7)\t-0.621866137614477\n",
            "  (2603, 19)\t1.0\n",
            "  (2603, 24)\t1.0\n",
            "  (2603, 182)\t1.0\n",
            "  (2604, 0)\t-0.04985322477208474\n",
            "  (2604, 1)\t1.8940950380954098\n",
            "  (2604, 2)\t-0.5293106315892564\n",
            "  (2604, 3)\t0.7490940534052206\n",
            "  (2604, 4)\t0.7141970989053026\n",
            "  (2604, 5)\t-0.6552588211351718\n",
            "  (2604, 6)\t1.1408568585457053\n",
            "  (2604, 7)\t-0.621866137614477\n",
            "  (2604, 19)\t1.0\n",
            "  (2604, 55)\t1.0\n",
            "  (2604, 182)\t1.0\n"
          ]
        }
      ]
    },
    {
      "cell_type": "code",
      "source": [
        "# @title CV Ridge с оптимальным гиперпараметром\n",
        "\n",
        "from sklearn.model_selection import cross_val_score\n",
        "from sklearn.model_selection import KFold\n",
        "from sklearn.metrics import make_scorer\n",
        "from scipy.sparse import vstack\n",
        "\n",
        "\n",
        "regressor = Ridge(best_par)\n",
        "cv=KFold(n_splits=5, shuffle=True, random_state=42)\n",
        "\n",
        "X_cv = vstack([X_train, X_test])\n",
        "Y_cv = np.concatenate([Y_train, Y_test])\n",
        "print('MAE (по CV Ridge):', cross_val_score(regressor, X_cv, Y_cv, scoring=make_scorer(mean_absolute_error), cv=cv).mean())\n"
      ],
      "metadata": {
        "colab": {
          "base_uri": "https://localhost:8080/"
        },
        "id": "UjjUFpGNyRVZ",
        "outputId": "7919ffc9-e1c1-4a07-a6f4-b7d121e15ca6"
      },
      "execution_count": null,
      "outputs": [
        {
          "output_type": "stream",
          "name": "stdout",
          "text": [
            "MAE (по CV Ridge): 1135.8451612055774\n"
          ]
        }
      ]
    },
    {
      "cell_type": "code",
      "source": [
        "# @title Lasso\n",
        "\n",
        "from sklearn.linear_model import Lasso\n",
        "\n",
        "Regression = Lasso()\n",
        "Regression.fit(X_train, Y_train)\n",
        "answer_L1 = Regression.predict(X_test)\n",
        "print('MAE (Lasso):', mean_absolute_error(Y_test, answer_L1))\n",
        "print('MAPE (Lasso):', mean_absolute_percentage_error(Y_test, answer_L1))"
      ],
      "metadata": {
        "colab": {
          "base_uri": "https://localhost:8080/"
        },
        "id": "9Ds8LAxy_9WY",
        "outputId": "64170a20-5db2-4e2e-f563-a6554f2fdb7d"
      },
      "execution_count": null,
      "outputs": [
        {
          "output_type": "stream",
          "name": "stdout",
          "text": [
            "MAE (Lasso): 1168.1254837174215\n",
            "MAPE (Lasso): 6.751701486508513\n"
          ]
        }
      ]
    },
    {
      "cell_type": "code",
      "source": [
        "# @title lightgbm\n",
        "\n",
        "import lightgbm as lgb\n",
        "\n",
        "model_lgb = lgb.LGBMRegressor()\n",
        "model_lgb.fit(X_train, Y_train)\n",
        "\n",
        "answer_lgb = model_lgb.predict(X_test)\n",
        "\n",
        "print('MAE (LightGBM):', mean_absolute_error(Y_test, answer_lgb))\n",
        "print('MAPE (LightGBM):', mean_absolute_percentage_error(Y_test, answer_lgb))"
      ],
      "metadata": {
        "colab": {
          "base_uri": "https://localhost:8080/"
        },
        "id": "C32LVQkWTtud",
        "outputId": "5b69e0ec-04d9-4053-fbf6-bf58144c6324"
      },
      "execution_count": null,
      "outputs": [
        {
          "output_type": "stream",
          "name": "stderr",
          "text": [
            "/usr/local/lib/python3.11/dist-packages/sklearn/utils/deprecation.py:151: FutureWarning: 'force_all_finite' was renamed to 'ensure_all_finite' in 1.6 and will be removed in 1.8.\n",
            "  warnings.warn(\n"
          ]
        },
        {
          "output_type": "stream",
          "name": "stdout",
          "text": [
            "[LightGBM] [Info] Auto-choosing row-wise multi-threading, the overhead of testing was 0.001343 seconds.\n",
            "You can set `force_row_wise=true` to remove the overhead.\n",
            "And if memory is not enough, you can set `force_col_wise=true`.\n",
            "[LightGBM] [Info] Total Bins 2002\n",
            "[LightGBM] [Info] Number of data points in the train set: 10417, number of used features: 172\n",
            "[LightGBM] [Info] Start training from score 1818.699818\n",
            "MAE (LightGBM): 986.9466815099914\n",
            "MAPE (LightGBM): 4.787251580604839\n"
          ]
        },
        {
          "output_type": "stream",
          "name": "stderr",
          "text": [
            "/usr/local/lib/python3.11/dist-packages/sklearn/utils/deprecation.py:151: FutureWarning: 'force_all_finite' was renamed to 'ensure_all_finite' in 1.6 and will be removed in 1.8.\n",
            "  warnings.warn(\n"
          ]
        }
      ]
    },
    {
      "cell_type": "code",
      "source": [
        "# @title RandomForest\n",
        "\n",
        "from sklearn.ensemble import RandomForestRegressor\n",
        "\n",
        "model_rf = RandomForestRegressor()\n",
        "model_rf.fit(X_train, Y_train)\n",
        "\n",
        "answer_rf = model_rf.predict(X_test)\n",
        "print('MAE (rf):', mean_absolute_error(Y_test, answer_rf))\n",
        "print('MAPE (rf):', mean_absolute_percentage_error(Y_test, answer_rf))"
      ],
      "metadata": {
        "colab": {
          "base_uri": "https://localhost:8080/"
        },
        "id": "ABLc7b1uVkXX",
        "outputId": "12d79690-9147-4dea-fc76-e81628cf9559"
      },
      "execution_count": null,
      "outputs": [
        {
          "output_type": "stream",
          "name": "stdout",
          "text": [
            "MAE (rf): 930.6966218809981\n",
            "MAPE (rf): 3.844199993127072\n"
          ]
        }
      ]
    },
    {
      "cell_type": "code",
      "source": [
        "!pip install optuna"
      ],
      "metadata": {
        "colab": {
          "base_uri": "https://localhost:8080/"
        },
        "id": "t4b7DNmuagNb",
        "outputId": "459d1229-3762-4482-a1a4-ababcad06966"
      },
      "execution_count": null,
      "outputs": [
        {
          "output_type": "stream",
          "name": "stdout",
          "text": [
            "Collecting optuna\n",
            "  Downloading optuna-4.3.0-py3-none-any.whl.metadata (17 kB)\n",
            "Collecting alembic>=1.5.0 (from optuna)\n",
            "  Downloading alembic-1.15.2-py3-none-any.whl.metadata (7.3 kB)\n",
            "Collecting colorlog (from optuna)\n",
            "  Downloading colorlog-6.9.0-py3-none-any.whl.metadata (10 kB)\n",
            "Requirement already satisfied: numpy in /usr/local/lib/python3.11/dist-packages (from optuna) (2.0.2)\n",
            "Requirement already satisfied: packaging>=20.0 in /usr/local/lib/python3.11/dist-packages (from optuna) (24.2)\n",
            "Requirement already satisfied: sqlalchemy>=1.4.2 in /usr/local/lib/python3.11/dist-packages (from optuna) (2.0.40)\n",
            "Requirement already satisfied: tqdm in /usr/local/lib/python3.11/dist-packages (from optuna) (4.67.1)\n",
            "Requirement already satisfied: PyYAML in /usr/local/lib/python3.11/dist-packages (from optuna) (6.0.2)\n",
            "Requirement already satisfied: Mako in /usr/lib/python3/dist-packages (from alembic>=1.5.0->optuna) (1.1.3)\n",
            "Requirement already satisfied: typing-extensions>=4.12 in /usr/local/lib/python3.11/dist-packages (from alembic>=1.5.0->optuna) (4.13.2)\n",
            "Requirement already satisfied: greenlet>=1 in /usr/local/lib/python3.11/dist-packages (from sqlalchemy>=1.4.2->optuna) (3.2.0)\n",
            "Downloading optuna-4.3.0-py3-none-any.whl (386 kB)\n",
            "\u001b[2K   \u001b[90m━━━━━━━━━━━━━━━━━━━━━━━━━━━━━━━━━━━━━━━━\u001b[0m \u001b[32m386.6/386.6 kB\u001b[0m \u001b[31m8.1 MB/s\u001b[0m eta \u001b[36m0:00:00\u001b[0m\n",
            "\u001b[?25hDownloading alembic-1.15.2-py3-none-any.whl (231 kB)\n",
            "\u001b[2K   \u001b[90m━━━━━━━━━━━━━━━━━━━━━━━━━━━━━━━━━━━━━━━━\u001b[0m \u001b[32m231.9/231.9 kB\u001b[0m \u001b[31m22.9 MB/s\u001b[0m eta \u001b[36m0:00:00\u001b[0m\n",
            "\u001b[?25hDownloading colorlog-6.9.0-py3-none-any.whl (11 kB)\n",
            "Installing collected packages: colorlog, alembic, optuna\n",
            "Successfully installed alembic-1.15.2 colorlog-6.9.0 optuna-4.3.0\n"
          ]
        }
      ]
    },
    {
      "cell_type": "code",
      "source": [
        "# @title подбор гиперпараметров(optuna)\n",
        "import optuna\n",
        "\n",
        "def objective(trial):\n",
        "    params = {\n",
        "        'n_estimators': trial.suggest_int('n_estimators', 50, 500),\n",
        "        'max_depth': trial.suggest_int('max_depth', 10, 30),\n",
        "        'min_samples_split': trial.suggest_int('min_samples_split', 2, 10),\n",
        "        'min_samples_leaf': trial.suggest_int('min_samples_leaf', 1, 5),\n",
        "        'max_features': trial.suggest_categorical('max_features', ['sqrt', 'log2', None]),\n",
        "        'bootstrap': trial.suggest_categorical('bootstrap', [True, False])\n",
        "    }\n",
        "    model = RandomForestRegressor(**params)\n",
        "    model.fit(X_train, Y_train)\n",
        "    y_pred = model.predict(X_test)\n",
        "    return np.sqrt(mean_absolute_error(Y_test, y_pred))\n",
        "\n",
        "study = optuna.create_study(direction='minimize')\n",
        "study.optimize(objective, n_trials=20)\n",
        "\n",
        "best_params = study.best_params\n",
        "print('Best parameters: ', best_params)"
      ],
      "metadata": {
        "colab": {
          "base_uri": "https://localhost:8080/"
        },
        "id": "nZYEaoTpZtJn",
        "outputId": "912712b9-0aa7-4b70-c957-309e39d0b496"
      },
      "execution_count": null,
      "outputs": [
        {
          "output_type": "stream",
          "name": "stderr",
          "text": [
            "[I 2025-04-21 15:00:16,063] A new study created in memory with name: no-name-9256b186-811f-411a-a7cd-49b34bdce300\n",
            "[I 2025-04-21 15:00:24,482] Trial 0 finished with value: 34.47124547580821 and parameters: {'n_estimators': 321, 'max_depth': 18, 'min_samples_split': 5, 'min_samples_leaf': 4, 'max_features': 'sqrt', 'bootstrap': True}. Best is trial 0 with value: 34.47124547580821.\n",
            "[I 2025-04-21 15:00:30,032] Trial 1 finished with value: 37.61719825519999 and parameters: {'n_estimators': 210, 'max_depth': 9, 'min_samples_split': 2, 'min_samples_leaf': 3, 'max_features': 'log2', 'bootstrap': True}. Best is trial 0 with value: 34.47124547580821.\n",
            "[I 2025-04-21 15:00:39,681] Trial 2 finished with value: 34.28974093272158 and parameters: {'n_estimators': 160, 'max_depth': 20, 'min_samples_split': 5, 'min_samples_leaf': 4, 'max_features': 'sqrt', 'bootstrap': True}. Best is trial 2 with value: 34.28974093272158.\n",
            "[I 2025-04-21 15:01:22,455] Trial 3 finished with value: 34.474261101278984 and parameters: {'n_estimators': 183, 'max_depth': 17, 'min_samples_split': 9, 'min_samples_leaf': 1, 'max_features': None, 'bootstrap': False}. Best is trial 2 with value: 34.28974093272158.\n",
            "[I 2025-04-21 15:02:13,606] Trial 4 finished with value: 35.4169712698701 and parameters: {'n_estimators': 415, 'max_depth': 10, 'min_samples_split': 2, 'min_samples_leaf': 5, 'max_features': None, 'bootstrap': False}. Best is trial 2 with value: 34.28974093272158.\n",
            "[I 2025-04-21 15:02:16,423] Trial 5 finished with value: 38.70099781255872 and parameters: {'n_estimators': 490, 'max_depth': 6, 'min_samples_split': 6, 'min_samples_leaf': 3, 'max_features': 'log2', 'bootstrap': False}. Best is trial 2 with value: 34.28974093272158.\n",
            "[I 2025-04-21 15:02:17,274] Trial 6 finished with value: 36.56548070416943 and parameters: {'n_estimators': 107, 'max_depth': 13, 'min_samples_split': 8, 'min_samples_leaf': 3, 'max_features': 'log2', 'bootstrap': True}. Best is trial 2 with value: 34.28974093272158.\n",
            "[I 2025-04-21 15:02:19,237] Trial 7 finished with value: 37.58519724475111 and parameters: {'n_estimators': 225, 'max_depth': 6, 'min_samples_split': 4, 'min_samples_leaf': 4, 'max_features': 'sqrt', 'bootstrap': False}. Best is trial 2 with value: 34.28974093272158.\n",
            "[I 2025-04-21 15:02:21,939] Trial 8 finished with value: 38.636842843192916 and parameters: {'n_estimators': 390, 'max_depth': 6, 'min_samples_split': 4, 'min_samples_leaf': 4, 'max_features': 'log2', 'bootstrap': True}. Best is trial 2 with value: 34.28974093272158.\n",
            "[I 2025-04-21 15:02:25,902] Trial 9 finished with value: 36.00829552899892 and parameters: {'n_estimators': 425, 'max_depth': 16, 'min_samples_split': 7, 'min_samples_leaf': 4, 'max_features': 'log2', 'bootstrap': True}. Best is trial 2 with value: 34.28974093272158.\n",
            "[I 2025-04-21 15:02:26,635] Trial 10 finished with value: 35.08978485648022 and parameters: {'n_estimators': 59, 'max_depth': 13, 'min_samples_split': 10, 'min_samples_leaf': 1, 'max_features': 'sqrt', 'bootstrap': True}. Best is trial 2 with value: 34.28974093272158.\n",
            "[I 2025-04-21 15:02:30,921] Trial 11 finished with value: 34.37694490289894 and parameters: {'n_estimators': 310, 'max_depth': 20, 'min_samples_split': 5, 'min_samples_leaf': 5, 'max_features': 'sqrt', 'bootstrap': True}. Best is trial 2 with value: 34.28974093272158.\n",
            "[I 2025-04-21 15:02:35,959] Trial 12 finished with value: 34.34407804908977 and parameters: {'n_estimators': 300, 'max_depth': 20, 'min_samples_split': 5, 'min_samples_leaf': 5, 'max_features': 'sqrt', 'bootstrap': True}. Best is trial 2 with value: 34.28974093272158.\n",
            "[I 2025-04-21 15:02:37,815] Trial 13 finished with value: 34.416592888554824 and parameters: {'n_estimators': 134, 'max_depth': 20, 'min_samples_split': 4, 'min_samples_leaf': 5, 'max_features': 'sqrt', 'bootstrap': True}. Best is trial 2 with value: 34.28974093272158.\n",
            "[I 2025-04-21 15:02:41,570] Trial 14 finished with value: 34.815871350291495 and parameters: {'n_estimators': 263, 'max_depth': 15, 'min_samples_split': 6, 'min_samples_leaf': 2, 'max_features': 'sqrt', 'bootstrap': True}. Best is trial 2 with value: 34.28974093272158.\n",
            "[I 2025-04-21 15:02:42,917] Trial 15 finished with value: 39.08741160514203 and parameters: {'n_estimators': 283, 'max_depth': 3, 'min_samples_split': 3, 'min_samples_leaf': 5, 'max_features': 'sqrt', 'bootstrap': True}. Best is trial 2 with value: 34.28974093272158.\n",
            "[I 2025-04-21 15:03:00,636] Trial 16 finished with value: 32.71467780811395 and parameters: {'n_estimators': 156, 'max_depth': 19, 'min_samples_split': 7, 'min_samples_leaf': 4, 'max_features': None, 'bootstrap': True}. Best is trial 16 with value: 32.71467780811395.\n",
            "[I 2025-04-21 15:03:18,006] Trial 17 finished with value: 32.850483632720916 and parameters: {'n_estimators': 146, 'max_depth': 18, 'min_samples_split': 7, 'min_samples_leaf': 3, 'max_features': None, 'bootstrap': True}. Best is trial 16 with value: 32.71467780811395.\n",
            "[I 2025-04-21 15:03:28,062] Trial 18 finished with value: 34.50826237497976 and parameters: {'n_estimators': 53, 'max_depth': 15, 'min_samples_split': 8, 'min_samples_leaf': 2, 'max_features': None, 'bootstrap': False}. Best is trial 16 with value: 32.71467780811395.\n",
            "[I 2025-04-21 15:03:42,104] Trial 19 finished with value: 32.88081131467061 and parameters: {'n_estimators': 101, 'max_depth': 18, 'min_samples_split': 7, 'min_samples_leaf': 2, 'max_features': None, 'bootstrap': True}. Best is trial 16 with value: 32.71467780811395.\n"
          ]
        },
        {
          "output_type": "stream",
          "name": "stdout",
          "text": [
            "Best parameters:  {'n_estimators': 156, 'max_depth': 19, 'min_samples_split': 7, 'min_samples_leaf': 4, 'max_features': None, 'bootstrap': True}\n"
          ]
        }
      ]
    },
    {
      "cell_type": "code",
      "source": [
        "# @title Модель с лучшими параметрами\n",
        "best_params = {'n_estimators': 156, 'max_depth': 19, 'min_samples_split': 7, 'min_samples_leaf': 4, 'max_features': None, 'bootstrap': True}\n",
        "model_tuned = RandomForestRegressor(**best_params)\n",
        "model_tuned.fit(X_train, Y_train)\n",
        "y_pred_opt = model_tuned.predict(X_test)\n",
        "print('MAE (Tuned RandomForest_opt):', mean_absolute_error(Y_test, y_pred_opt))\n",
        "print('MAPE (RandomForest_opt):', mean_absolute_percentage_error(Y_test, y_pred_opt))"
      ],
      "metadata": {
        "id": "W7aRano7ciuy",
        "colab": {
          "base_uri": "https://localhost:8080/"
        },
        "outputId": "b60d7de6-9a24-41f7-8319-132cb3401e25"
      },
      "execution_count": null,
      "outputs": [
        {
          "output_type": "stream",
          "name": "stdout",
          "text": [
            "MAE (Tuned RandomForest_opt): 1072.2937850109774\n",
            "MAPE (RandomForest_opt): 5.395327166394591\n"
          ]
        }
      ]
    },
    {
      "cell_type": "code",
      "source": [
        "# @title Pipeline\n",
        "from sklearn.pipeline import Pipeline\n",
        "import pickle\n",
        "from sklearn.compose import ColumnTransformer\n",
        "\n",
        "\n",
        "model = Pipeline([\n",
        "    ('preprocessor', ColumnTransformer([('scaler', StandardScaler(), ['Feat_2', 'Feat_3', 'Feat_7', 'Feat_9', 'Feat_10', 'Feat_11', 'Feat_12', 'Promo_time']),\n",
        "                                        ('onehot', OneHotEncoder(handle_unknown='ignore', drop='first'), ['Promo_type', 'Agent', 'Item_id', 'Promo_class'])],\n",
        "                                        remainder='drop')),\n",
        "    ('regressor', RandomForestRegressor(n_estimators=156, max_depth=19, min_samples_split=7,\n",
        "                                        min_samples_leaf=4, max_features=None, bootstrap=True))\n",
        "])\n"
      ],
      "metadata": {
        "id": "fUk9VnwY2GO0"
      },
      "execution_count": null,
      "outputs": []
    },
    {
      "cell_type": "code",
      "source": [
        "model = model.fit(data_train, Y_train)\n",
        "Y_pred = model.predict(data_test)\n",
        "print(\"Accuracy:\", mean_absolute_error(Y_test, Y_pred))\n",
        "with open('model_with_preprocessor.pkl', 'wb') as f:\n",
        "    pickle.dump(model, f)"
      ],
      "metadata": {
        "colab": {
          "base_uri": "https://localhost:8080/"
        },
        "id": "mMF6dRt5bI5v",
        "outputId": "1a1ded2b-cd8f-4829-d081-b8d692ca2ad9"
      },
      "execution_count": null,
      "outputs": [
        {
          "output_type": "stream",
          "name": "stdout",
          "text": [
            "Accuracy: 1070.5175730432036\n"
          ]
        }
      ]
    },
    {
      "cell_type": "code",
      "source": [
        "print(model)"
      ],
      "metadata": {
        "colab": {
          "base_uri": "https://localhost:8080/"
        },
        "id": "8ttMH1DAD-ph",
        "outputId": "00384a56-9363-4246-eb5d-5c1a1814bad0"
      },
      "execution_count": null,
      "outputs": [
        {
          "output_type": "stream",
          "name": "stdout",
          "text": [
            "Pipeline(steps=[('preprocessor',\n",
            "                 ColumnTransformer(transformers=[('scaler', StandardScaler(),\n",
            "                                                  ['Feat_2', 'Feat_3', 'Feat_7',\n",
            "                                                   'Feat_9', 'Feat_10',\n",
            "                                                   'Feat_11', 'Feat_12',\n",
            "                                                   'Promo_time']),\n",
            "                                                 ('onehot',\n",
            "                                                  OneHotEncoder(drop='first',\n",
            "                                                                handle_unknown='ignore'),\n",
            "                                                  ['Promo_type', 'Agent',\n",
            "                                                   'Item_id',\n",
            "                                                   'Promo_class'])])),\n",
            "                ('regressor',\n",
            "                 RandomForestRegressor(max_depth=19, max_features=None,\n",
            "                                       min_samples_leaf=4, min_samples_split=7,\n",
            "                                       n_estimators=156))])\n"
          ]
        }
      ]
    },
    {
      "cell_type": "code",
      "source": [
        "# @title predict from pipeline\n",
        "\n",
        "import datetime\n",
        "\n",
        "promo_data = {\n",
        "    \"Promo_start\": \"2024-07-24\",\n",
        "    \"Promo_end\": \"2024-07-30\",\n",
        "    \"Shipping_start\": \"2024-06-25\",\n",
        "    \"Shipping_end\": \"2024-07-30\",\n",
        "    \"Promo_type\": \"J\",\n",
        "    \"Feat_2\": 10328.21,\n",
        "    \"Feat_3\": 58.22,\n",
        "    \"Agent\": \"C\",\n",
        "    \"Promo_id\": \"Promo №5483.0\",\n",
        "    \"Item_id\": \"Item ID: 125.0\",\n",
        "    \"Feat_7\": 32270.51,\n",
        "    \"Promo_class\": \"D\",\n",
        "    \"Feat_9\": 84812245.76,\n",
        "    \"Feat_10\": 5718813.46,\n",
        "    \"Feat_11\": 25.96,\n",
        "    \"Feat_12\": 84212\n",
        "}\n",
        "\n",
        "p = pd.DataFrame([promo_data])\n",
        "\n",
        "p['Promo_time'] = (pd.to_datetime(p['Promo_end']) - pd.to_datetime(p['Promo_start'])).dt.days\n",
        "p['Shipping_time'] = (pd.to_datetime(p['Shipping_end']) - pd.to_datetime(p['Shipping_start'])).dt.days\n",
        "\n",
        "q = model.predict(p)\n",
        "print(q[0])"
      ],
      "metadata": {
        "colab": {
          "base_uri": "https://localhost:8080/"
        },
        "id": "oRTB65rNvEVk",
        "outputId": "e60e408d-17c9-49a5-d37a-d0d0acfe6993"
      },
      "execution_count": null,
      "outputs": [
        {
          "output_type": "stream",
          "name": "stdout",
          "text": [
            "1587.869298424612\n"
          ]
        },
        {
          "output_type": "stream",
          "name": "stderr",
          "text": [
            "/usr/local/lib/python3.11/dist-packages/sklearn/preprocessing/_encoders.py:246: UserWarning: Found unknown categories in columns [2] during transform. These unknown categories will be encoded as all zeros\n",
            "  warnings.warn(\n"
          ]
        }
      ]
    }
  ]
}